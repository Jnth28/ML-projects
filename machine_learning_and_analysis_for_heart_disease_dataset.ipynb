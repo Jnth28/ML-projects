{
  "cells": [
    {
      "cell_type": "code",
      "execution_count": 1,
      "id": "959f9e0e",
      "metadata": {
        "execution": {
          "iopub.execute_input": "2022-09-23T15:31:33.444641Z",
          "iopub.status.busy": "2022-09-23T15:31:33.444179Z",
          "iopub.status.idle": "2022-09-23T15:31:34.790282Z",
          "shell.execute_reply": "2022-09-23T15:31:34.789049Z"
        },
        "papermill": {
          "duration": 1.36603,
          "end_time": "2022-09-23T15:31:34.793067",
          "exception": false,
          "start_time": "2022-09-23T15:31:33.427037",
          "status": "completed"
        },
        "tags": [],
        "id": "959f9e0e"
      },
      "outputs": [],
      "source": [
        "import pandas as pd\n",
        "import numpy as np\n",
        "import seaborn as sns\n",
        "import matplotlib.pyplot as plt\n",
        "from sklearn.model_selection import train_test_split,GridSearchCV,cross_val_score\n",
        "from sklearn.linear_model import LogisticRegression\n",
        "from sklearn.metrics import confusion_matrix, accuracy_score, classification_report\n",
        "from sklearn.metrics import roc_auc_score\n",
        "from sklearn.metrics import roc_curve\n",
        "from sklearn.naive_bayes import GaussianNB\n",
        "from sklearn.neighbors import KNeighborsClassifier\n",
        "from sklearn.svm import SVC\n",
        "from sklearn import preprocessing\n",
        "import warnings\n",
        "warnings.filterwarnings('ignore')"
      ]
    },
    {
      "cell_type": "code",
      "execution_count": 3,
      "id": "a71edc6b",
      "metadata": {
        "execution": {
          "iopub.execute_input": "2022-09-23T15:31:34.823678Z",
          "iopub.status.busy": "2022-09-23T15:31:34.823251Z",
          "iopub.status.idle": "2022-09-23T15:31:34.860923Z",
          "shell.execute_reply": "2022-09-23T15:31:34.859489Z"
        },
        "papermill": {
          "duration": 0.055836,
          "end_time": "2022-09-23T15:31:34.863654",
          "exception": false,
          "start_time": "2022-09-23T15:31:34.807818",
          "status": "completed"
        },
        "tags": [],
        "colab": {
          "base_uri": "https://localhost:8080/",
          "height": 270
        },
        "id": "a71edc6b",
        "outputId": "4be571c1-ff6d-4f8c-bfdc-3e34c81848aa"
      },
      "outputs": [
        {
          "output_type": "execute_result",
          "data": {
            "text/plain": [
              "   Age Sex ChestPainType  RestingBP  Cholesterol  FastingBS RestingECG  MaxHR  \\\n",
              "0   40   M           ATA        140          289          0     Normal    172   \n",
              "1   49   F           NAP        160          180          0     Normal    156   \n",
              "2   37   M           ATA        130          283          0         ST     98   \n",
              "3   48   F           ASY        138          214          0     Normal    108   \n",
              "4   54   M           NAP        150          195          0     Normal    122   \n",
              "\n",
              "  ExerciseAngina  Oldpeak ST_Slope  HeartDisease  \n",
              "0              N      0.0       Up             0  \n",
              "1              N      1.0     Flat             1  \n",
              "2              N      0.0       Up             0  \n",
              "3              Y      1.5     Flat             1  \n",
              "4              N      0.0       Up             0  "
            ],
            "text/html": [
              "\n",
              "  <div id=\"df-09fa75d4-3ed0-4496-b2f3-3f9b306dffc7\">\n",
              "    <div class=\"colab-df-container\">\n",
              "      <div>\n",
              "<style scoped>\n",
              "    .dataframe tbody tr th:only-of-type {\n",
              "        vertical-align: middle;\n",
              "    }\n",
              "\n",
              "    .dataframe tbody tr th {\n",
              "        vertical-align: top;\n",
              "    }\n",
              "\n",
              "    .dataframe thead th {\n",
              "        text-align: right;\n",
              "    }\n",
              "</style>\n",
              "<table border=\"1\" class=\"dataframe\">\n",
              "  <thead>\n",
              "    <tr style=\"text-align: right;\">\n",
              "      <th></th>\n",
              "      <th>Age</th>\n",
              "      <th>Sex</th>\n",
              "      <th>ChestPainType</th>\n",
              "      <th>RestingBP</th>\n",
              "      <th>Cholesterol</th>\n",
              "      <th>FastingBS</th>\n",
              "      <th>RestingECG</th>\n",
              "      <th>MaxHR</th>\n",
              "      <th>ExerciseAngina</th>\n",
              "      <th>Oldpeak</th>\n",
              "      <th>ST_Slope</th>\n",
              "      <th>HeartDisease</th>\n",
              "    </tr>\n",
              "  </thead>\n",
              "  <tbody>\n",
              "    <tr>\n",
              "      <th>0</th>\n",
              "      <td>40</td>\n",
              "      <td>M</td>\n",
              "      <td>ATA</td>\n",
              "      <td>140</td>\n",
              "      <td>289</td>\n",
              "      <td>0</td>\n",
              "      <td>Normal</td>\n",
              "      <td>172</td>\n",
              "      <td>N</td>\n",
              "      <td>0.0</td>\n",
              "      <td>Up</td>\n",
              "      <td>0</td>\n",
              "    </tr>\n",
              "    <tr>\n",
              "      <th>1</th>\n",
              "      <td>49</td>\n",
              "      <td>F</td>\n",
              "      <td>NAP</td>\n",
              "      <td>160</td>\n",
              "      <td>180</td>\n",
              "      <td>0</td>\n",
              "      <td>Normal</td>\n",
              "      <td>156</td>\n",
              "      <td>N</td>\n",
              "      <td>1.0</td>\n",
              "      <td>Flat</td>\n",
              "      <td>1</td>\n",
              "    </tr>\n",
              "    <tr>\n",
              "      <th>2</th>\n",
              "      <td>37</td>\n",
              "      <td>M</td>\n",
              "      <td>ATA</td>\n",
              "      <td>130</td>\n",
              "      <td>283</td>\n",
              "      <td>0</td>\n",
              "      <td>ST</td>\n",
              "      <td>98</td>\n",
              "      <td>N</td>\n",
              "      <td>0.0</td>\n",
              "      <td>Up</td>\n",
              "      <td>0</td>\n",
              "    </tr>\n",
              "    <tr>\n",
              "      <th>3</th>\n",
              "      <td>48</td>\n",
              "      <td>F</td>\n",
              "      <td>ASY</td>\n",
              "      <td>138</td>\n",
              "      <td>214</td>\n",
              "      <td>0</td>\n",
              "      <td>Normal</td>\n",
              "      <td>108</td>\n",
              "      <td>Y</td>\n",
              "      <td>1.5</td>\n",
              "      <td>Flat</td>\n",
              "      <td>1</td>\n",
              "    </tr>\n",
              "    <tr>\n",
              "      <th>4</th>\n",
              "      <td>54</td>\n",
              "      <td>M</td>\n",
              "      <td>NAP</td>\n",
              "      <td>150</td>\n",
              "      <td>195</td>\n",
              "      <td>0</td>\n",
              "      <td>Normal</td>\n",
              "      <td>122</td>\n",
              "      <td>N</td>\n",
              "      <td>0.0</td>\n",
              "      <td>Up</td>\n",
              "      <td>0</td>\n",
              "    </tr>\n",
              "  </tbody>\n",
              "</table>\n",
              "</div>\n",
              "      <button class=\"colab-df-convert\" onclick=\"convertToInteractive('df-09fa75d4-3ed0-4496-b2f3-3f9b306dffc7')\"\n",
              "              title=\"Convert this dataframe to an interactive table.\"\n",
              "              style=\"display:none;\">\n",
              "        \n",
              "  <svg xmlns=\"http://www.w3.org/2000/svg\" height=\"24px\"viewBox=\"0 0 24 24\"\n",
              "       width=\"24px\">\n",
              "    <path d=\"M0 0h24v24H0V0z\" fill=\"none\"/>\n",
              "    <path d=\"M18.56 5.44l.94 2.06.94-2.06 2.06-.94-2.06-.94-.94-2.06-.94 2.06-2.06.94zm-11 1L8.5 8.5l.94-2.06 2.06-.94-2.06-.94L8.5 2.5l-.94 2.06-2.06.94zm10 10l.94 2.06.94-2.06 2.06-.94-2.06-.94-.94-2.06-.94 2.06-2.06.94z\"/><path d=\"M17.41 7.96l-1.37-1.37c-.4-.4-.92-.59-1.43-.59-.52 0-1.04.2-1.43.59L10.3 9.45l-7.72 7.72c-.78.78-.78 2.05 0 2.83L4 21.41c.39.39.9.59 1.41.59.51 0 1.02-.2 1.41-.59l7.78-7.78 2.81-2.81c.8-.78.8-2.07 0-2.86zM5.41 20L4 18.59l7.72-7.72 1.47 1.35L5.41 20z\"/>\n",
              "  </svg>\n",
              "      </button>\n",
              "      \n",
              "  <style>\n",
              "    .colab-df-container {\n",
              "      display:flex;\n",
              "      flex-wrap:wrap;\n",
              "      gap: 12px;\n",
              "    }\n",
              "\n",
              "    .colab-df-convert {\n",
              "      background-color: #E8F0FE;\n",
              "      border: none;\n",
              "      border-radius: 50%;\n",
              "      cursor: pointer;\n",
              "      display: none;\n",
              "      fill: #1967D2;\n",
              "      height: 32px;\n",
              "      padding: 0 0 0 0;\n",
              "      width: 32px;\n",
              "    }\n",
              "\n",
              "    .colab-df-convert:hover {\n",
              "      background-color: #E2EBFA;\n",
              "      box-shadow: 0px 1px 2px rgba(60, 64, 67, 0.3), 0px 1px 3px 1px rgba(60, 64, 67, 0.15);\n",
              "      fill: #174EA6;\n",
              "    }\n",
              "\n",
              "    [theme=dark] .colab-df-convert {\n",
              "      background-color: #3B4455;\n",
              "      fill: #D2E3FC;\n",
              "    }\n",
              "\n",
              "    [theme=dark] .colab-df-convert:hover {\n",
              "      background-color: #434B5C;\n",
              "      box-shadow: 0px 1px 3px 1px rgba(0, 0, 0, 0.15);\n",
              "      filter: drop-shadow(0px 1px 2px rgba(0, 0, 0, 0.3));\n",
              "      fill: #FFFFFF;\n",
              "    }\n",
              "  </style>\n",
              "\n",
              "      <script>\n",
              "        const buttonEl =\n",
              "          document.querySelector('#df-09fa75d4-3ed0-4496-b2f3-3f9b306dffc7 button.colab-df-convert');\n",
              "        buttonEl.style.display =\n",
              "          google.colab.kernel.accessAllowed ? 'block' : 'none';\n",
              "\n",
              "        async function convertToInteractive(key) {\n",
              "          const element = document.querySelector('#df-09fa75d4-3ed0-4496-b2f3-3f9b306dffc7');\n",
              "          const dataTable =\n",
              "            await google.colab.kernel.invokeFunction('convertToInteractive',\n",
              "                                                     [key], {});\n",
              "          if (!dataTable) return;\n",
              "\n",
              "          const docLinkHtml = 'Like what you see? Visit the ' +\n",
              "            '<a target=\"_blank\" href=https://colab.research.google.com/notebooks/data_table.ipynb>data table notebook</a>'\n",
              "            + ' to learn more about interactive tables.';\n",
              "          element.innerHTML = '';\n",
              "          dataTable['output_type'] = 'display_data';\n",
              "          await google.colab.output.renderOutput(dataTable, element);\n",
              "          const docLink = document.createElement('div');\n",
              "          docLink.innerHTML = docLinkHtml;\n",
              "          element.appendChild(docLink);\n",
              "        }\n",
              "      </script>\n",
              "    </div>\n",
              "  </div>\n",
              "  "
            ]
          },
          "metadata": {},
          "execution_count": 3
        }
      ],
      "source": [
        "data = pd.read_csv('heart_data.csv')\n",
        "data.head()"
      ]
    },
    {
      "cell_type": "code",
      "execution_count": 4,
      "id": "bb193e23",
      "metadata": {
        "execution": {
          "iopub.execute_input": "2022-09-23T15:31:34.895370Z",
          "iopub.status.busy": "2022-09-23T15:31:34.894311Z",
          "iopub.status.idle": "2022-09-23T15:31:34.919719Z",
          "shell.execute_reply": "2022-09-23T15:31:34.917990Z"
        },
        "papermill": {
          "duration": 0.044416,
          "end_time": "2022-09-23T15:31:34.922589",
          "exception": false,
          "start_time": "2022-09-23T15:31:34.878173",
          "status": "completed"
        },
        "tags": [],
        "colab": {
          "base_uri": "https://localhost:8080/"
        },
        "id": "bb193e23",
        "outputId": "87e359d4-5add-41fa-f86a-9d8aa8ba19ca"
      },
      "outputs": [
        {
          "output_type": "stream",
          "name": "stdout",
          "text": [
            "<class 'pandas.core.frame.DataFrame'>\n",
            "RangeIndex: 918 entries, 0 to 917\n",
            "Data columns (total 12 columns):\n",
            " #   Column          Non-Null Count  Dtype  \n",
            "---  ------          --------------  -----  \n",
            " 0   Age             918 non-null    int64  \n",
            " 1   Sex             918 non-null    object \n",
            " 2   ChestPainType   918 non-null    object \n",
            " 3   RestingBP       918 non-null    int64  \n",
            " 4   Cholesterol     918 non-null    int64  \n",
            " 5   FastingBS       918 non-null    int64  \n",
            " 6   RestingECG      918 non-null    object \n",
            " 7   MaxHR           918 non-null    int64  \n",
            " 8   ExerciseAngina  918 non-null    object \n",
            " 9   Oldpeak         918 non-null    float64\n",
            " 10  ST_Slope        918 non-null    object \n",
            " 11  HeartDisease    918 non-null    int64  \n",
            "dtypes: float64(1), int64(6), object(5)\n",
            "memory usage: 86.2+ KB\n"
          ]
        }
      ],
      "source": [
        "data.info()"
      ]
    },
    {
      "cell_type": "code",
      "execution_count": 5,
      "id": "1985eda3",
      "metadata": {
        "execution": {
          "iopub.execute_input": "2022-09-23T15:31:34.954424Z",
          "iopub.status.busy": "2022-09-23T15:31:34.953271Z",
          "iopub.status.idle": "2022-09-23T15:31:34.991170Z",
          "shell.execute_reply": "2022-09-23T15:31:34.989882Z"
        },
        "papermill": {
          "duration": 0.055967,
          "end_time": "2022-09-23T15:31:34.993700",
          "exception": false,
          "start_time": "2022-09-23T15:31:34.937733",
          "status": "completed"
        },
        "tags": [],
        "colab": {
          "base_uri": "https://localhost:8080/",
          "height": 269
        },
        "id": "1985eda3",
        "outputId": "eda50ba5-70ef-4c9b-c28a-e7ead33eb686"
      },
      "outputs": [
        {
          "output_type": "execute_result",
          "data": {
            "text/plain": [
              "              count        mean         std   min     25%    50%    75%    max\n",
              "Age           918.0   53.510893    9.432617  28.0   47.00   54.0   60.0   77.0\n",
              "RestingBP     918.0  132.396514   18.514154   0.0  120.00  130.0  140.0  200.0\n",
              "Cholesterol   918.0  198.799564  109.384145   0.0  173.25  223.0  267.0  603.0\n",
              "FastingBS     918.0    0.233115    0.423046   0.0    0.00    0.0    0.0    1.0\n",
              "MaxHR         918.0  136.809368   25.460334  60.0  120.00  138.0  156.0  202.0\n",
              "Oldpeak       918.0    0.887364    1.066570  -2.6    0.00    0.6    1.5    6.2\n",
              "HeartDisease  918.0    0.553377    0.497414   0.0    0.00    1.0    1.0    1.0"
            ],
            "text/html": [
              "\n",
              "  <div id=\"df-48271b0f-b880-4d0c-8617-32969d029d77\">\n",
              "    <div class=\"colab-df-container\">\n",
              "      <div>\n",
              "<style scoped>\n",
              "    .dataframe tbody tr th:only-of-type {\n",
              "        vertical-align: middle;\n",
              "    }\n",
              "\n",
              "    .dataframe tbody tr th {\n",
              "        vertical-align: top;\n",
              "    }\n",
              "\n",
              "    .dataframe thead th {\n",
              "        text-align: right;\n",
              "    }\n",
              "</style>\n",
              "<table border=\"1\" class=\"dataframe\">\n",
              "  <thead>\n",
              "    <tr style=\"text-align: right;\">\n",
              "      <th></th>\n",
              "      <th>count</th>\n",
              "      <th>mean</th>\n",
              "      <th>std</th>\n",
              "      <th>min</th>\n",
              "      <th>25%</th>\n",
              "      <th>50%</th>\n",
              "      <th>75%</th>\n",
              "      <th>max</th>\n",
              "    </tr>\n",
              "  </thead>\n",
              "  <tbody>\n",
              "    <tr>\n",
              "      <th>Age</th>\n",
              "      <td>918.0</td>\n",
              "      <td>53.510893</td>\n",
              "      <td>9.432617</td>\n",
              "      <td>28.0</td>\n",
              "      <td>47.00</td>\n",
              "      <td>54.0</td>\n",
              "      <td>60.0</td>\n",
              "      <td>77.0</td>\n",
              "    </tr>\n",
              "    <tr>\n",
              "      <th>RestingBP</th>\n",
              "      <td>918.0</td>\n",
              "      <td>132.396514</td>\n",
              "      <td>18.514154</td>\n",
              "      <td>0.0</td>\n",
              "      <td>120.00</td>\n",
              "      <td>130.0</td>\n",
              "      <td>140.0</td>\n",
              "      <td>200.0</td>\n",
              "    </tr>\n",
              "    <tr>\n",
              "      <th>Cholesterol</th>\n",
              "      <td>918.0</td>\n",
              "      <td>198.799564</td>\n",
              "      <td>109.384145</td>\n",
              "      <td>0.0</td>\n",
              "      <td>173.25</td>\n",
              "      <td>223.0</td>\n",
              "      <td>267.0</td>\n",
              "      <td>603.0</td>\n",
              "    </tr>\n",
              "    <tr>\n",
              "      <th>FastingBS</th>\n",
              "      <td>918.0</td>\n",
              "      <td>0.233115</td>\n",
              "      <td>0.423046</td>\n",
              "      <td>0.0</td>\n",
              "      <td>0.00</td>\n",
              "      <td>0.0</td>\n",
              "      <td>0.0</td>\n",
              "      <td>1.0</td>\n",
              "    </tr>\n",
              "    <tr>\n",
              "      <th>MaxHR</th>\n",
              "      <td>918.0</td>\n",
              "      <td>136.809368</td>\n",
              "      <td>25.460334</td>\n",
              "      <td>60.0</td>\n",
              "      <td>120.00</td>\n",
              "      <td>138.0</td>\n",
              "      <td>156.0</td>\n",
              "      <td>202.0</td>\n",
              "    </tr>\n",
              "    <tr>\n",
              "      <th>Oldpeak</th>\n",
              "      <td>918.0</td>\n",
              "      <td>0.887364</td>\n",
              "      <td>1.066570</td>\n",
              "      <td>-2.6</td>\n",
              "      <td>0.00</td>\n",
              "      <td>0.6</td>\n",
              "      <td>1.5</td>\n",
              "      <td>6.2</td>\n",
              "    </tr>\n",
              "    <tr>\n",
              "      <th>HeartDisease</th>\n",
              "      <td>918.0</td>\n",
              "      <td>0.553377</td>\n",
              "      <td>0.497414</td>\n",
              "      <td>0.0</td>\n",
              "      <td>0.00</td>\n",
              "      <td>1.0</td>\n",
              "      <td>1.0</td>\n",
              "      <td>1.0</td>\n",
              "    </tr>\n",
              "  </tbody>\n",
              "</table>\n",
              "</div>\n",
              "      <button class=\"colab-df-convert\" onclick=\"convertToInteractive('df-48271b0f-b880-4d0c-8617-32969d029d77')\"\n",
              "              title=\"Convert this dataframe to an interactive table.\"\n",
              "              style=\"display:none;\">\n",
              "        \n",
              "  <svg xmlns=\"http://www.w3.org/2000/svg\" height=\"24px\"viewBox=\"0 0 24 24\"\n",
              "       width=\"24px\">\n",
              "    <path d=\"M0 0h24v24H0V0z\" fill=\"none\"/>\n",
              "    <path d=\"M18.56 5.44l.94 2.06.94-2.06 2.06-.94-2.06-.94-.94-2.06-.94 2.06-2.06.94zm-11 1L8.5 8.5l.94-2.06 2.06-.94-2.06-.94L8.5 2.5l-.94 2.06-2.06.94zm10 10l.94 2.06.94-2.06 2.06-.94-2.06-.94-.94-2.06-.94 2.06-2.06.94z\"/><path d=\"M17.41 7.96l-1.37-1.37c-.4-.4-.92-.59-1.43-.59-.52 0-1.04.2-1.43.59L10.3 9.45l-7.72 7.72c-.78.78-.78 2.05 0 2.83L4 21.41c.39.39.9.59 1.41.59.51 0 1.02-.2 1.41-.59l7.78-7.78 2.81-2.81c.8-.78.8-2.07 0-2.86zM5.41 20L4 18.59l7.72-7.72 1.47 1.35L5.41 20z\"/>\n",
              "  </svg>\n",
              "      </button>\n",
              "      \n",
              "  <style>\n",
              "    .colab-df-container {\n",
              "      display:flex;\n",
              "      flex-wrap:wrap;\n",
              "      gap: 12px;\n",
              "    }\n",
              "\n",
              "    .colab-df-convert {\n",
              "      background-color: #E8F0FE;\n",
              "      border: none;\n",
              "      border-radius: 50%;\n",
              "      cursor: pointer;\n",
              "      display: none;\n",
              "      fill: #1967D2;\n",
              "      height: 32px;\n",
              "      padding: 0 0 0 0;\n",
              "      width: 32px;\n",
              "    }\n",
              "\n",
              "    .colab-df-convert:hover {\n",
              "      background-color: #E2EBFA;\n",
              "      box-shadow: 0px 1px 2px rgba(60, 64, 67, 0.3), 0px 1px 3px 1px rgba(60, 64, 67, 0.15);\n",
              "      fill: #174EA6;\n",
              "    }\n",
              "\n",
              "    [theme=dark] .colab-df-convert {\n",
              "      background-color: #3B4455;\n",
              "      fill: #D2E3FC;\n",
              "    }\n",
              "\n",
              "    [theme=dark] .colab-df-convert:hover {\n",
              "      background-color: #434B5C;\n",
              "      box-shadow: 0px 1px 3px 1px rgba(0, 0, 0, 0.15);\n",
              "      filter: drop-shadow(0px 1px 2px rgba(0, 0, 0, 0.3));\n",
              "      fill: #FFFFFF;\n",
              "    }\n",
              "  </style>\n",
              "\n",
              "      <script>\n",
              "        const buttonEl =\n",
              "          document.querySelector('#df-48271b0f-b880-4d0c-8617-32969d029d77 button.colab-df-convert');\n",
              "        buttonEl.style.display =\n",
              "          google.colab.kernel.accessAllowed ? 'block' : 'none';\n",
              "\n",
              "        async function convertToInteractive(key) {\n",
              "          const element = document.querySelector('#df-48271b0f-b880-4d0c-8617-32969d029d77');\n",
              "          const dataTable =\n",
              "            await google.colab.kernel.invokeFunction('convertToInteractive',\n",
              "                                                     [key], {});\n",
              "          if (!dataTable) return;\n",
              "\n",
              "          const docLinkHtml = 'Like what you see? Visit the ' +\n",
              "            '<a target=\"_blank\" href=https://colab.research.google.com/notebooks/data_table.ipynb>data table notebook</a>'\n",
              "            + ' to learn more about interactive tables.';\n",
              "          element.innerHTML = '';\n",
              "          dataTable['output_type'] = 'display_data';\n",
              "          await google.colab.output.renderOutput(dataTable, element);\n",
              "          const docLink = document.createElement('div');\n",
              "          docLink.innerHTML = docLinkHtml;\n",
              "          element.appendChild(docLink);\n",
              "        }\n",
              "      </script>\n",
              "    </div>\n",
              "  </div>\n",
              "  "
            ]
          },
          "metadata": {},
          "execution_count": 5
        }
      ],
      "source": [
        "data.describe().T"
      ]
    },
    {
      "cell_type": "code",
      "execution_count": 6,
      "id": "cbf2e14a",
      "metadata": {
        "execution": {
          "iopub.execute_input": "2022-09-23T15:31:35.025305Z",
          "iopub.status.busy": "2022-09-23T15:31:35.024873Z",
          "iopub.status.idle": "2022-09-23T15:31:35.031711Z",
          "shell.execute_reply": "2022-09-23T15:31:35.030720Z"
        },
        "papermill": {
          "duration": 0.025414,
          "end_time": "2022-09-23T15:31:35.033857",
          "exception": false,
          "start_time": "2022-09-23T15:31:35.008443",
          "status": "completed"
        },
        "tags": [],
        "colab": {
          "base_uri": "https://localhost:8080/"
        },
        "id": "cbf2e14a",
        "outputId": "278987ab-074b-4a7a-99ba-515c6668daa8"
      },
      "outputs": [
        {
          "output_type": "execute_result",
          "data": {
            "text/plain": [
              "['Age',\n",
              " 'Sex',\n",
              " 'ChestPainType',\n",
              " 'RestingBP',\n",
              " 'Cholesterol',\n",
              " 'FastingBS',\n",
              " 'RestingECG',\n",
              " 'MaxHR',\n",
              " 'ExerciseAngina',\n",
              " 'Oldpeak',\n",
              " 'ST_Slope',\n",
              " 'HeartDisease']"
            ]
          },
          "metadata": {},
          "execution_count": 6
        }
      ],
      "source": [
        "data.columns.tolist()"
      ]
    },
    {
      "cell_type": "markdown",
      "id": "f962fb12",
      "metadata": {
        "papermill": {
          "duration": 0.014327,
          "end_time": "2022-09-23T15:31:35.063040",
          "exception": false,
          "start_time": "2022-09-23T15:31:35.048713",
          "status": "completed"
        },
        "tags": [],
        "id": "f962fb12"
      },
      "source": [
        "# Data Dictionary\n",
        "1-Age: age of the patient [years]\n",
        "\n",
        "2-Sex: sex of the patient [M: Male, F: Female]\n",
        "\n",
        "3-ChestPainType: chest pain type [TA: Typical Angina, ATA: Atypical Angina, NAP: Non-Anginal Pain, ASY: Asymptomatic]\n",
        "\n",
        "4-RestingBP: resting blood pressure [mm Hg]\n",
        "\n",
        "5-Cholesterol: serum cholesterol [mm/dl]\n",
        "\n",
        "6-FastingBS: fasting blood sugar [1: if FastingBS > 120 mg/dl, 0: otherwise]\n",
        "\n",
        "7-RestingECG: resting electrocardiogram results [Normal: Normal, ST: having ST-T wave abnormality (T wave inversions and/or ST elevation or depression of > 0.05 mV), LVH: showing probable or definite left ventricular hypertrophy by Estes' criteria]\n",
        "\n",
        "8-MaxHR: maximum heart rate achieved [Numeric value between 60 and 202]\n",
        "\n",
        "9-ExerciseAngina: exercise-induced angina [Y: Yes, N: No]\n",
        "\n",
        "10-Oldpeak: oldpeak = ST [Numeric value measured in depression]\n",
        "\n",
        "11-ST_Slope: the slope of the peak exercise ST segment [Up: upsloping, Flat: flat, Down: downsloping]\n",
        "\n",
        "12-HeartDisease: output class [1: heart disease, 0: Normal]"
      ]
    },
    {
      "cell_type": "markdown",
      "id": "4ce25d48",
      "metadata": {
        "papermill": {
          "duration": 0.016883,
          "end_time": "2022-09-23T15:31:35.100813",
          "exception": false,
          "start_time": "2022-09-23T15:31:35.083930",
          "status": "completed"
        },
        "tags": [],
        "id": "4ce25d48"
      },
      "source": [
        "# Categorical Feature to examine"
      ]
    },
    {
      "cell_type": "code",
      "execution_count": 7,
      "id": "62be3ccb",
      "metadata": {
        "execution": {
          "iopub.execute_input": "2022-09-23T15:31:35.135589Z",
          "iopub.status.busy": "2022-09-23T15:31:35.134605Z",
          "iopub.status.idle": "2022-09-23T15:31:35.161774Z",
          "shell.execute_reply": "2022-09-23T15:31:35.160533Z"
        },
        "papermill": {
          "duration": 0.047275,
          "end_time": "2022-09-23T15:31:35.164521",
          "exception": false,
          "start_time": "2022-09-23T15:31:35.117246",
          "status": "completed"
        },
        "tags": [],
        "colab": {
          "base_uri": "https://localhost:8080/",
          "height": 175
        },
        "id": "62be3ccb",
        "outputId": "5de64a21-905e-4a88-f21b-d9f2585acee3"
      },
      "outputs": [
        {
          "output_type": "execute_result",
          "data": {
            "text/plain": [
              "        Sex ChestPainType RestingECG ExerciseAngina ST_Slope\n",
              "count   918           918        918            918      918\n",
              "unique    2             4          3              2        3\n",
              "top       M           ASY     Normal              N     Flat\n",
              "freq    725           496        552            547      460"
            ],
            "text/html": [
              "\n",
              "  <div id=\"df-4a2ee63e-8f33-4e58-8ee1-886d822e47ce\">\n",
              "    <div class=\"colab-df-container\">\n",
              "      <div>\n",
              "<style scoped>\n",
              "    .dataframe tbody tr th:only-of-type {\n",
              "        vertical-align: middle;\n",
              "    }\n",
              "\n",
              "    .dataframe tbody tr th {\n",
              "        vertical-align: top;\n",
              "    }\n",
              "\n",
              "    .dataframe thead th {\n",
              "        text-align: right;\n",
              "    }\n",
              "</style>\n",
              "<table border=\"1\" class=\"dataframe\">\n",
              "  <thead>\n",
              "    <tr style=\"text-align: right;\">\n",
              "      <th></th>\n",
              "      <th>Sex</th>\n",
              "      <th>ChestPainType</th>\n",
              "      <th>RestingECG</th>\n",
              "      <th>ExerciseAngina</th>\n",
              "      <th>ST_Slope</th>\n",
              "    </tr>\n",
              "  </thead>\n",
              "  <tbody>\n",
              "    <tr>\n",
              "      <th>count</th>\n",
              "      <td>918</td>\n",
              "      <td>918</td>\n",
              "      <td>918</td>\n",
              "      <td>918</td>\n",
              "      <td>918</td>\n",
              "    </tr>\n",
              "    <tr>\n",
              "      <th>unique</th>\n",
              "      <td>2</td>\n",
              "      <td>4</td>\n",
              "      <td>3</td>\n",
              "      <td>2</td>\n",
              "      <td>3</td>\n",
              "    </tr>\n",
              "    <tr>\n",
              "      <th>top</th>\n",
              "      <td>M</td>\n",
              "      <td>ASY</td>\n",
              "      <td>Normal</td>\n",
              "      <td>N</td>\n",
              "      <td>Flat</td>\n",
              "    </tr>\n",
              "    <tr>\n",
              "      <th>freq</th>\n",
              "      <td>725</td>\n",
              "      <td>496</td>\n",
              "      <td>552</td>\n",
              "      <td>547</td>\n",
              "      <td>460</td>\n",
              "    </tr>\n",
              "  </tbody>\n",
              "</table>\n",
              "</div>\n",
              "      <button class=\"colab-df-convert\" onclick=\"convertToInteractive('df-4a2ee63e-8f33-4e58-8ee1-886d822e47ce')\"\n",
              "              title=\"Convert this dataframe to an interactive table.\"\n",
              "              style=\"display:none;\">\n",
              "        \n",
              "  <svg xmlns=\"http://www.w3.org/2000/svg\" height=\"24px\"viewBox=\"0 0 24 24\"\n",
              "       width=\"24px\">\n",
              "    <path d=\"M0 0h24v24H0V0z\" fill=\"none\"/>\n",
              "    <path d=\"M18.56 5.44l.94 2.06.94-2.06 2.06-.94-2.06-.94-.94-2.06-.94 2.06-2.06.94zm-11 1L8.5 8.5l.94-2.06 2.06-.94-2.06-.94L8.5 2.5l-.94 2.06-2.06.94zm10 10l.94 2.06.94-2.06 2.06-.94-2.06-.94-.94-2.06-.94 2.06-2.06.94z\"/><path d=\"M17.41 7.96l-1.37-1.37c-.4-.4-.92-.59-1.43-.59-.52 0-1.04.2-1.43.59L10.3 9.45l-7.72 7.72c-.78.78-.78 2.05 0 2.83L4 21.41c.39.39.9.59 1.41.59.51 0 1.02-.2 1.41-.59l7.78-7.78 2.81-2.81c.8-.78.8-2.07 0-2.86zM5.41 20L4 18.59l7.72-7.72 1.47 1.35L5.41 20z\"/>\n",
              "  </svg>\n",
              "      </button>\n",
              "      \n",
              "  <style>\n",
              "    .colab-df-container {\n",
              "      display:flex;\n",
              "      flex-wrap:wrap;\n",
              "      gap: 12px;\n",
              "    }\n",
              "\n",
              "    .colab-df-convert {\n",
              "      background-color: #E8F0FE;\n",
              "      border: none;\n",
              "      border-radius: 50%;\n",
              "      cursor: pointer;\n",
              "      display: none;\n",
              "      fill: #1967D2;\n",
              "      height: 32px;\n",
              "      padding: 0 0 0 0;\n",
              "      width: 32px;\n",
              "    }\n",
              "\n",
              "    .colab-df-convert:hover {\n",
              "      background-color: #E2EBFA;\n",
              "      box-shadow: 0px 1px 2px rgba(60, 64, 67, 0.3), 0px 1px 3px 1px rgba(60, 64, 67, 0.15);\n",
              "      fill: #174EA6;\n",
              "    }\n",
              "\n",
              "    [theme=dark] .colab-df-convert {\n",
              "      background-color: #3B4455;\n",
              "      fill: #D2E3FC;\n",
              "    }\n",
              "\n",
              "    [theme=dark] .colab-df-convert:hover {\n",
              "      background-color: #434B5C;\n",
              "      box-shadow: 0px 1px 3px 1px rgba(0, 0, 0, 0.15);\n",
              "      filter: drop-shadow(0px 1px 2px rgba(0, 0, 0, 0.3));\n",
              "      fill: #FFFFFF;\n",
              "    }\n",
              "  </style>\n",
              "\n",
              "      <script>\n",
              "        const buttonEl =\n",
              "          document.querySelector('#df-4a2ee63e-8f33-4e58-8ee1-886d822e47ce button.colab-df-convert');\n",
              "        buttonEl.style.display =\n",
              "          google.colab.kernel.accessAllowed ? 'block' : 'none';\n",
              "\n",
              "        async function convertToInteractive(key) {\n",
              "          const element = document.querySelector('#df-4a2ee63e-8f33-4e58-8ee1-886d822e47ce');\n",
              "          const dataTable =\n",
              "            await google.colab.kernel.invokeFunction('convertToInteractive',\n",
              "                                                     [key], {});\n",
              "          if (!dataTable) return;\n",
              "\n",
              "          const docLinkHtml = 'Like what you see? Visit the ' +\n",
              "            '<a target=\"_blank\" href=https://colab.research.google.com/notebooks/data_table.ipynb>data table notebook</a>'\n",
              "            + ' to learn more about interactive tables.';\n",
              "          element.innerHTML = '';\n",
              "          dataTable['output_type'] = 'display_data';\n",
              "          await google.colab.output.renderOutput(dataTable, element);\n",
              "          const docLink = document.createElement('div');\n",
              "          docLink.innerHTML = docLinkHtml;\n",
              "          element.appendChild(docLink);\n",
              "        }\n",
              "      </script>\n",
              "    </div>\n",
              "  </div>\n",
              "  "
            ]
          },
          "metadata": {},
          "execution_count": 7
        }
      ],
      "source": [
        "categorical_vars = data.describe(include=[\"object\"])\n",
        "categorical_vars"
      ]
    },
    {
      "cell_type": "markdown",
      "id": "e1a81d9d",
      "metadata": {
        "papermill": {
          "duration": 0.018809,
          "end_time": "2022-09-23T15:31:35.199250",
          "exception": false,
          "start_time": "2022-09-23T15:31:35.180441",
          "status": "completed"
        },
        "tags": [],
        "id": "e1a81d9d"
      },
      "source": [
        " # Categorical Feature to Visualization"
      ]
    },
    {
      "cell_type": "code",
      "execution_count": 8,
      "id": "de4e7e26",
      "metadata": {
        "execution": {
          "iopub.execute_input": "2022-09-23T15:31:35.238819Z",
          "iopub.status.busy": "2022-09-23T15:31:35.237601Z",
          "iopub.status.idle": "2022-09-23T15:31:36.902704Z",
          "shell.execute_reply": "2022-09-23T15:31:36.901897Z"
        },
        "papermill": {
          "duration": 1.687392,
          "end_time": "2022-09-23T15:31:36.904954",
          "exception": false,
          "start_time": "2022-09-23T15:31:35.217562",
          "status": "completed"
        },
        "tags": [],
        "colab": {
          "base_uri": "https://localhost:8080/",
          "height": 518
        },
        "id": "de4e7e26",
        "outputId": "bae6a758-1ab7-48e0-d8c4-eaf8d5973751"
      },
      "outputs": [
        {
          "output_type": "display_data",
          "data": {
            "text/plain": [
              "<Figure size 1008x576 with 1 Axes>"
            ],
            "image/png": "[encoded data removed]"
          },
          "metadata": {
            "needs_background": "light"
          }
        }
      ],
      "source": [
        "plt.figure(figsize=(14,8))\n",
        "sns.set(style='dark')\n",
        "sns.countplot(x=data['Age'],palette = \"mako\",hue=data['HeartDisease']);\n",
        "plt.legend(['Normal', 'heart disease'],loc='upper right')\n",
        "plt.title('count');"
      ]
    },
    {
      "cell_type": "code",
      "execution_count": 9,
      "id": "8c0780a9",
      "metadata": {
        "execution": {
          "iopub.execute_input": "2022-09-23T15:31:36.938295Z",
          "iopub.status.busy": "2022-09-23T15:31:36.937219Z",
          "iopub.status.idle": "2022-09-23T15:31:37.125616Z",
          "shell.execute_reply": "2022-09-23T15:31:37.124620Z"
        },
        "papermill": {
          "duration": 0.207555,
          "end_time": "2022-09-23T15:31:37.128032",
          "exception": false,
          "start_time": "2022-09-23T15:31:36.920477",
          "status": "completed"
        },
        "tags": [],
        "colab": {
          "base_uri": "https://localhost:8080/",
          "height": 518
        },
        "id": "8c0780a9",
        "outputId": "06b533b1-a2b4-4c29-d6a7-a84bd3b0a265"
      },
      "outputs": [
        {
          "output_type": "display_data",
          "data": {
            "text/plain": [
              "<Figure size 864x576 with 1 Axes>"
            ],
            "image/png": "[encoded data removed]"
          },
          "metadata": {}
        }
      ],
      "source": [
        "plt.figure(figsize=(12,8))\n",
        "plt.title('Disease totals of the sexes')\n",
        "sns.countplot(x=\"Sex\",hue=\"HeartDisease\", data=data,palette=\"mako\")\n",
        "plt.legend(['Normal', 'heart disease']);"
      ]
    },
    {
      "cell_type": "code",
      "execution_count": 10,
      "id": "0e8bf9ef",
      "metadata": {
        "execution": {
          "iopub.execute_input": "2022-09-23T15:31:37.161967Z",
          "iopub.status.busy": "2022-09-23T15:31:37.160801Z",
          "iopub.status.idle": "2022-09-23T15:31:37.349729Z",
          "shell.execute_reply": "2022-09-23T15:31:37.348560Z"
        },
        "papermill": {
          "duration": 0.208044,
          "end_time": "2022-09-23T15:31:37.351886",
          "exception": false,
          "start_time": "2022-09-23T15:31:37.143842",
          "status": "completed"
        },
        "tags": [],
        "colab": {
          "base_uri": "https://localhost:8080/",
          "height": 502
        },
        "id": "0e8bf9ef",
        "outputId": "606e334f-0749-452f-b7be-5993d2af7a59"
      },
      "outputs": [
        {
          "output_type": "display_data",
          "data": {
            "text/plain": [
              "<Figure size 864x576 with 1 Axes>"
            ],
            "image/png": "[encoded data removed]"
          },
          "metadata": {}
        }
      ],
      "source": [
        "plt.figure(figsize=(12,8))\n",
        "sns.countplot(x=\"ExerciseAngina\",hue=\"HeartDisease\", data=data,palette=\"mako\",)\n",
        "plt.legend(['Normal', 'heart disease']);"
      ]
    },
    {
      "cell_type": "code",
      "execution_count": 11,
      "id": "ca91b644",
      "metadata": {
        "execution": {
          "iopub.execute_input": "2022-09-23T15:31:37.385576Z",
          "iopub.status.busy": "2022-09-23T15:31:37.385098Z",
          "iopub.status.idle": "2022-09-23T15:31:37.583057Z",
          "shell.execute_reply": "2022-09-23T15:31:37.581873Z"
        },
        "papermill": {
          "duration": 0.217749,
          "end_time": "2022-09-23T15:31:37.585613",
          "exception": false,
          "start_time": "2022-09-23T15:31:37.367864",
          "status": "completed"
        },
        "tags": [],
        "colab": {
          "base_uri": "https://localhost:8080/",
          "height": 502
        },
        "id": "ca91b644",
        "outputId": "cc5aeef1-ef5e-450c-ae94-3752bf7b575e"
      },
      "outputs": [
        {
          "output_type": "display_data",
          "data": {
            "text/plain": [
              "<Figure size 864x576 with 1 Axes>"
            ],
            "image/png": "[encoded data removed]"
          },
          "metadata": {}
        }
      ],
      "source": [
        "plt.figure(figsize=(12,8))\n",
        "sns.countplot(x=\"RestingECG\",hue=\"HeartDisease\", data=data,palette=\"mako\")\n",
        "plt.legend(['Normal', 'heart disease']);"
      ]
    },
    {
      "cell_type": "code",
      "execution_count": 12,
      "id": "4361b647",
      "metadata": {
        "execution": {
          "iopub.execute_input": "2022-09-23T15:31:37.621176Z",
          "iopub.status.busy": "2022-09-23T15:31:37.620413Z",
          "iopub.status.idle": "2022-09-23T15:31:37.829904Z",
          "shell.execute_reply": "2022-09-23T15:31:37.829036Z"
        },
        "papermill": {
          "duration": 0.230317,
          "end_time": "2022-09-23T15:31:37.832272",
          "exception": false,
          "start_time": "2022-09-23T15:31:37.601955",
          "status": "completed"
        },
        "tags": [],
        "colab": {
          "base_uri": "https://localhost:8080/",
          "height": 506
        },
        "id": "4361b647",
        "outputId": "0a8352ab-0f3b-4685-dff2-602ee38abebb"
      },
      "outputs": [
        {
          "output_type": "display_data",
          "data": {
            "text/plain": [
              "<Figure size 864x576 with 1 Axes>"
            ],
            "image/png": "[encoded data removed]"
          },
          "metadata": {}
        }
      ],
      "source": [
        "plt.figure(figsize=(12,8))\n",
        "sns.countplot(x=\"ST_Slope\",hue=\"HeartDisease\", data=data,palette=\"mako\")\n",
        "plt.legend(['Normal', 'heart disease']);"
      ]
    },
    {
      "cell_type": "code",
      "execution_count": 13,
      "id": "01cd71f2",
      "metadata": {
        "execution": {
          "iopub.execute_input": "2022-09-23T15:31:37.868590Z",
          "iopub.status.busy": "2022-09-23T15:31:37.867836Z",
          "iopub.status.idle": "2022-09-23T15:31:38.091902Z",
          "shell.execute_reply": "2022-09-23T15:31:38.090627Z"
        },
        "papermill": {
          "duration": 0.244803,
          "end_time": "2022-09-23T15:31:38.094400",
          "exception": false,
          "start_time": "2022-09-23T15:31:37.849597",
          "status": "completed"
        },
        "tags": [],
        "colab": {
          "base_uri": "https://localhost:8080/",
          "height": 502
        },
        "id": "01cd71f2",
        "outputId": "17bb0da3-a501-426f-d65f-5d05c8bc1711"
      },
      "outputs": [
        {
          "output_type": "display_data",
          "data": {
            "text/plain": [
              "<Figure size 864x576 with 1 Axes>"
            ],
            "image/png": "[encoded data removed]"
          },
          "metadata": {}
        }
      ],
      "source": [
        "plt.figure(figsize=(12,8))\n",
        "sns.countplot(x=\"ChestPainType\",hue=\"HeartDisease\", data=data,palette=\"mako\")\n",
        "plt.legend(['Normal', 'heart disease']);"
      ]
    },
    {
      "cell_type": "markdown",
      "id": "64d785b5",
      "metadata": {
        "papermill": {
          "duration": 0.016753,
          "end_time": "2022-09-23T15:31:38.129051",
          "exception": false,
          "start_time": "2022-09-23T15:31:38.112298",
          "status": "completed"
        },
        "tags": [],
        "id": "64d785b5"
      },
      "source": [
        "# Numerical Data"
      ]
    },
    {
      "cell_type": "code",
      "execution_count": 14,
      "id": "f48c4ae2",
      "metadata": {
        "execution": {
          "iopub.execute_input": "2022-09-23T15:31:38.165417Z",
          "iopub.status.busy": "2022-09-23T15:31:38.164657Z",
          "iopub.status.idle": "2022-09-23T15:31:38.179531Z",
          "shell.execute_reply": "2022-09-23T15:31:38.178240Z"
        },
        "papermill": {
          "duration": 0.036042,
          "end_time": "2022-09-23T15:31:38.182072",
          "exception": false,
          "start_time": "2022-09-23T15:31:38.146030",
          "status": "completed"
        },
        "tags": [],
        "colab": {
          "base_uri": "https://localhost:8080/",
          "height": 206
        },
        "id": "f48c4ae2",
        "outputId": "f3301bf6-af84-4e02-ddda-92d56f43a544"
      },
      "outputs": [
        {
          "output_type": "execute_result",
          "data": {
            "text/plain": [
              "   Age  RestingBP  Cholesterol  FastingBS  MaxHR  Oldpeak  HeartDisease\n",
              "0   40        140          289          0    172      0.0             0\n",
              "1   49        160          180          0    156      1.0             1\n",
              "2   37        130          283          0     98      0.0             0\n",
              "3   48        138          214          0    108      1.5             1\n",
              "4   54        150          195          0    122      0.0             0"
            ],
            "text/html": [
              "\n",
              "  <div id=\"df-36752621-d40c-41c6-ad5e-76b7184c6d51\">\n",
              "    <div class=\"colab-df-container\">\n",
              "      <div>\n",
              "<style scoped>\n",
              "    .dataframe tbody tr th:only-of-type {\n",
              "        vertical-align: middle;\n",
              "    }\n",
              "\n",
              "    .dataframe tbody tr th {\n",
              "        vertical-align: top;\n",
              "    }\n",
              "\n",
              "    .dataframe thead th {\n",
              "        text-align: right;\n",
              "    }\n",
              "</style>\n",
              "<table border=\"1\" class=\"dataframe\">\n",
              "  <thead>\n",
              "    <tr style=\"text-align: right;\">\n",
              "      <th></th>\n",
              "      <th>Age</th>\n",
              "      <th>RestingBP</th>\n",
              "      <th>Cholesterol</th>\n",
              "      <th>FastingBS</th>\n",
              "      <th>MaxHR</th>\n",
              "      <th>Oldpeak</th>\n",
              "      <th>HeartDisease</th>\n",
              "    </tr>\n",
              "  </thead>\n",
              "  <tbody>\n",
              "    <tr>\n",
              "      <th>0</th>\n",
              "      <td>40</td>\n",
              "      <td>140</td>\n",
              "      <td>289</td>\n",
              "      <td>0</td>\n",
              "      <td>172</td>\n",
              "      <td>0.0</td>\n",
              "      <td>0</td>\n",
              "    </tr>\n",
              "    <tr>\n",
              "      <th>1</th>\n",
              "      <td>49</td>\n",
              "      <td>160</td>\n",
              "      <td>180</td>\n",
              "      <td>0</td>\n",
              "      <td>156</td>\n",
              "      <td>1.0</td>\n",
              "      <td>1</td>\n",
              "    </tr>\n",
              "    <tr>\n",
              "      <th>2</th>\n",
              "      <td>37</td>\n",
              "      <td>130</td>\n",
              "      <td>283</td>\n",
              "      <td>0</td>\n",
              "      <td>98</td>\n",
              "      <td>0.0</td>\n",
              "      <td>0</td>\n",
              "    </tr>\n",
              "    <tr>\n",
              "      <th>3</th>\n",
              "      <td>48</td>\n",
              "      <td>138</td>\n",
              "      <td>214</td>\n",
              "      <td>0</td>\n",
              "      <td>108</td>\n",
              "      <td>1.5</td>\n",
              "      <td>1</td>\n",
              "    </tr>\n",
              "    <tr>\n",
              "      <th>4</th>\n",
              "      <td>54</td>\n",
              "      <td>150</td>\n",
              "      <td>195</td>\n",
              "      <td>0</td>\n",
              "      <td>122</td>\n",
              "      <td>0.0</td>\n",
              "      <td>0</td>\n",
              "    </tr>\n",
              "  </tbody>\n",
              "</table>\n",
              "</div>\n",
              "      <button class=\"colab-df-convert\" onclick=\"convertToInteractive('df-36752621-d40c-41c6-ad5e-76b7184c6d51')\"\n",
              "              title=\"Convert this dataframe to an interactive table.\"\n",
              "              style=\"display:none;\">\n",
              "        \n",
              "  <svg xmlns=\"http://www.w3.org/2000/svg\" height=\"24px\"viewBox=\"0 0 24 24\"\n",
              "       width=\"24px\">\n",
              "    <path d=\"M0 0h24v24H0V0z\" fill=\"none\"/>\n",
              "    <path d=\"M18.56 5.44l.94 2.06.94-2.06 2.06-.94-2.06-.94-.94-2.06-.94 2.06-2.06.94zm-11 1L8.5 8.5l.94-2.06 2.06-.94-2.06-.94L8.5 2.5l-.94 2.06-2.06.94zm10 10l.94 2.06.94-2.06 2.06-.94-2.06-.94-.94-2.06-.94 2.06-2.06.94z\"/><path d=\"M17.41 7.96l-1.37-1.37c-.4-.4-.92-.59-1.43-.59-.52 0-1.04.2-1.43.59L10.3 9.45l-7.72 7.72c-.78.78-.78 2.05 0 2.83L4 21.41c.39.39.9.59 1.41.59.51 0 1.02-.2 1.41-.59l7.78-7.78 2.81-2.81c.8-.78.8-2.07 0-2.86zM5.41 20L4 18.59l7.72-7.72 1.47 1.35L5.41 20z\"/>\n",
              "  </svg>\n",
              "      </button>\n",
              "      \n",
              "  <style>\n",
              "    .colab-df-container {\n",
              "      display:flex;\n",
              "      flex-wrap:wrap;\n",
              "      gap: 12px;\n",
              "    }\n",
              "\n",
              "    .colab-df-convert {\n",
              "      background-color: #E8F0FE;\n",
              "      border: none;\n",
              "      border-radius: 50%;\n",
              "      cursor: pointer;\n",
              "      display: none;\n",
              "      fill: #1967D2;\n",
              "      height: 32px;\n",
              "      padding: 0 0 0 0;\n",
              "      width: 32px;\n",
              "    }\n",
              "\n",
              "    .colab-df-convert:hover {\n",
              "      background-color: #E2EBFA;\n",
              "      box-shadow: 0px 1px 2px rgba(60, 64, 67, 0.3), 0px 1px 3px 1px rgba(60, 64, 67, 0.15);\n",
              "      fill: #174EA6;\n",
              "    }\n",
              "\n",
              "    [theme=dark] .colab-df-convert {\n",
              "      background-color: #3B4455;\n",
              "      fill: #D2E3FC;\n",
              "    }\n",
              "\n",
              "    [theme=dark] .colab-df-convert:hover {\n",
              "      background-color: #434B5C;\n",
              "      box-shadow: 0px 1px 3px 1px rgba(0, 0, 0, 0.15);\n",
              "      filter: drop-shadow(0px 1px 2px rgba(0, 0, 0, 0.3));\n",
              "      fill: #FFFFFF;\n",
              "    }\n",
              "  </style>\n",
              "\n",
              "      <script>\n",
              "        const buttonEl =\n",
              "          document.querySelector('#df-36752621-d40c-41c6-ad5e-76b7184c6d51 button.colab-df-convert');\n",
              "        buttonEl.style.display =\n",
              "          google.colab.kernel.accessAllowed ? 'block' : 'none';\n",
              "\n",
              "        async function convertToInteractive(key) {\n",
              "          const element = document.querySelector('#df-36752621-d40c-41c6-ad5e-76b7184c6d51');\n",
              "          const dataTable =\n",
              "            await google.colab.kernel.invokeFunction('convertToInteractive',\n",
              "                                                     [key], {});\n",
              "          if (!dataTable) return;\n",
              "\n",
              "          const docLinkHtml = 'Like what you see? Visit the ' +\n",
              "            '<a target=\"_blank\" href=https://colab.research.google.com/notebooks/data_table.ipynb>data table notebook</a>'\n",
              "            + ' to learn more about interactive tables.';\n",
              "          element.innerHTML = '';\n",
              "          dataTable['output_type'] = 'display_data';\n",
              "          await google.colab.output.renderOutput(dataTable, element);\n",
              "          const docLink = document.createElement('div');\n",
              "          docLink.innerHTML = docLinkHtml;\n",
              "          element.appendChild(docLink);\n",
              "        }\n",
              "      </script>\n",
              "    </div>\n",
              "  </div>\n",
              "  "
            ]
          },
          "metadata": {},
          "execution_count": 14
        }
      ],
      "source": [
        "data_num_cols = data.select_dtypes(include=np.number)\n",
        "data_num_cols.head(5)"
      ]
    },
    {
      "cell_type": "code",
      "execution_count": 15,
      "id": "5e54b14f",
      "metadata": {
        "execution": {
          "iopub.execute_input": "2022-09-23T15:31:38.218607Z",
          "iopub.status.busy": "2022-09-23T15:31:38.218159Z",
          "iopub.status.idle": "2022-09-23T15:31:38.248798Z",
          "shell.execute_reply": "2022-09-23T15:31:38.247580Z"
        },
        "papermill": {
          "duration": 0.051724,
          "end_time": "2022-09-23T15:31:38.251333",
          "exception": false,
          "start_time": "2022-09-23T15:31:38.199609",
          "status": "completed"
        },
        "tags": [],
        "colab": {
          "base_uri": "https://localhost:8080/",
          "height": 1000
        },
        "id": "5e54b14f",
        "outputId": "025b512d-4fc6-49ff-942d-9d9ed282e47e"
      },
      "outputs": [
        {
          "output_type": "execute_result",
          "data": {
            "text/plain": [
              "    Age   RestingBP  Cholesterol  FastingBS       MaxHR   Oldpeak  \\\n",
              "0    28  130.000000   132.000000   0.000000  185.000000  0.000000   \n",
              "1    29  130.000000   236.666667   0.000000  177.333333  0.000000   \n",
              "2    30  170.000000   237.000000   0.000000  170.000000  0.000000   \n",
              "3    31  110.000000   244.500000   0.000000  151.500000  0.750000   \n",
              "4    32  110.600000   241.200000   0.200000  152.200000  0.140000   \n",
              "5    33  110.000000   272.000000   0.000000  167.500000  0.500000   \n",
              "6    34  124.142857   163.285714   0.142857  172.571429  0.128571   \n",
              "7    35  126.272727   197.454545   0.090909  158.909091  0.372727   \n",
              "8    36  123.666667   190.333333   0.166667  166.500000  0.833333   \n",
              "9    37  127.090909   233.727273   0.000000  152.909091  0.545455   \n",
              "10   38  120.000000   146.500000   0.187500  149.250000  0.700000   \n",
              "11   39  127.333333   239.200000   0.066667  150.800000  0.280000   \n",
              "12   40  128.307692   229.384615   0.230769  150.692308  0.492308   \n",
              "13   41  120.458333   216.500000   0.083333  154.416667  0.520833   \n",
              "14   42  129.166667   212.222222   0.111111  150.833333  0.222222   \n",
              "15   43  126.666667   202.333333   0.125000  147.875000  0.829167   \n",
              "16   44  125.947368   249.578947   0.000000  154.263158  0.531579   \n",
              "17   45  129.222222   229.333333   0.055556  148.277778  0.333333   \n",
              "18   46  126.375000   217.166667   0.125000  136.250000  0.520833   \n",
              "19   47  132.526316   193.421053   0.210526  139.842105  0.773684   \n",
              "20   48  128.000000   228.193548   0.258065  136.161290  0.729032   \n",
              "21   49  129.047619   213.476190   0.000000  146.619048  0.661905   \n",
              "22   50  135.000000   199.200000   0.080000  139.360000  0.824000   \n",
              "23   51  127.742857   175.885714   0.342857  135.742857  0.825714   \n",
              "24   52  133.638889   200.277778   0.250000  141.944444  0.866667   \n",
              "25   53  131.090909   181.030303   0.272727  131.575758  0.718182   \n",
              "26   54  133.568627   231.980392   0.156863  137.294118  0.845098   \n",
              "27   55  131.317073   218.463415   0.195122  133.390244  1.034146   \n",
              "28   56  133.894737   174.789474   0.368421  128.894737  0.978947   \n",
              "29   57  136.368421   202.315789   0.342105  133.631579  1.002632   \n",
              "30   58  132.000000   217.285714   0.285714  130.380952  1.007143   \n",
              "31   59  141.085714   175.714286   0.257143  134.600000  0.982857   \n",
              "32   60  135.468750   167.656250   0.343750  135.250000  1.218750   \n",
              "33   61  137.483871   162.580645   0.354839  121.000000  1.303226   \n",
              "34   62  134.885714   166.742857   0.314286  121.028571  1.214286   \n",
              "35   63  136.833333   157.600000   0.300000  128.933333  1.420000   \n",
              "36   64  137.590909   205.318182   0.272727  128.318182  1.204545   \n",
              "37   65  141.761905   207.571429   0.333333  125.904762  1.171429   \n",
              "38   66  139.461538   179.461538   0.230769  124.846154  0.900000   \n",
              "39   67  133.533333   254.866667   0.266667  132.133333  1.120000   \n",
              "40   68  140.300000   158.500000   0.600000  136.100000  1.250000   \n",
              "41   69  139.461538   156.230769   0.538462  122.307692  1.238462   \n",
              "42   70  145.142857   171.714286   0.142857  123.857143  1.842857   \n",
              "43   71  131.200000   231.600000   0.200000  128.000000  0.760000   \n",
              "44   72  145.750000   137.000000   0.250000  113.750000  1.375000   \n",
              "45   73  160.000000     0.000000   0.000000  121.000000  0.000000   \n",
              "46   74  141.857143   184.285714   0.571429  116.000000  1.285714   \n",
              "47   75  155.333333   246.000000   0.666667  110.666667  1.666667   \n",
              "48   76  122.000000   155.000000   0.000000  118.000000  2.300000   \n",
              "49   77  124.500000   237.500000   0.000000  136.000000  1.000000   \n",
              "\n",
              "    HeartDisease  \n",
              "0       0.000000  \n",
              "1       0.000000  \n",
              "2       0.000000  \n",
              "3       0.500000  \n",
              "4       0.400000  \n",
              "5       0.500000  \n",
              "6       0.285714  \n",
              "7       0.363636  \n",
              "8       0.333333  \n",
              "9       0.090909  \n",
              "10      0.687500  \n",
              "11      0.133333  \n",
              "12      0.461538  \n",
              "13      0.250000  \n",
              "14      0.166667  \n",
              "15      0.458333  \n",
              "16      0.315789  \n",
              "17      0.166667  \n",
              "18      0.541667  \n",
              "19      0.578947  \n",
              "20      0.483871  \n",
              "21      0.523810  \n",
              "22      0.560000  \n",
              "23      0.428571  \n",
              "24      0.527778  \n",
              "25      0.454545  \n",
              "26      0.450980  \n",
              "27      0.585366  \n",
              "28      0.657895  \n",
              "29      0.684211  \n",
              "30      0.666667  \n",
              "31      0.657143  \n",
              "32      0.750000  \n",
              "33      0.838710  \n",
              "34      0.714286  \n",
              "35      0.766667  \n",
              "36      0.681818  \n",
              "37      0.714286  \n",
              "38      0.538462  \n",
              "39      0.800000  \n",
              "40      0.600000  \n",
              "41      0.769231  \n",
              "42      0.857143  \n",
              "43      0.400000  \n",
              "44      0.750000  \n",
              "45      1.000000  \n",
              "46      0.714286  \n",
              "47      0.666667  \n",
              "48      0.500000  \n",
              "49      1.000000  "
            ],
            "text/html": [
              "\n",
              "  <div id=\"df-0911aecf-91f4-4548-89c7-fa4f1db892c9\">\n",
              "    <div class=\"colab-df-container\">\n",
              "      <div>\n",
              "<style scoped>\n",
              "    .dataframe tbody tr th:only-of-type {\n",
              "        vertical-align: middle;\n",
              "    }\n",
              "\n",
              "    .dataframe tbody tr th {\n",
              "        vertical-align: top;\n",
              "    }\n",
              "\n",
              "    .dataframe thead th {\n",
              "        text-align: right;\n",
              "    }\n",
              "</style>\n",
              "<table border=\"1\" class=\"dataframe\">\n",
              "  <thead>\n",
              "    <tr style=\"text-align: right;\">\n",
              "      <th></th>\n",
              "      <th>Age</th>\n",
              "      <th>RestingBP</th>\n",
              "      <th>Cholesterol</th>\n",
              "      <th>FastingBS</th>\n",
              "      <th>MaxHR</th>\n",
              "      <th>Oldpeak</th>\n",
              "      <th>HeartDisease</th>\n",
              "    </tr>\n",
              "  </thead>\n",
              "  <tbody>\n",
              "    <tr>\n",
              "      <th>0</th>\n",
              "      <td>28</td>\n",
              "      <td>130.000000</td>\n",
              "      <td>132.000000</td>\n",
              "      <td>0.000000</td>\n",
              "      <td>185.000000</td>\n",
              "      <td>0.000000</td>\n",
              "      <td>0.000000</td>\n",
              "    </tr>\n",
              "    <tr>\n",
              "      <th>1</th>\n",
              "      <td>29</td>\n",
              "      <td>130.000000</td>\n",
              "      <td>236.666667</td>\n",
              "      <td>0.000000</td>\n",
              "      <td>177.333333</td>\n",
              "      <td>0.000000</td>\n",
              "      <td>0.000000</td>\n",
              "    </tr>\n",
              "    <tr>\n",
              "      <th>2</th>\n",
              "      <td>30</td>\n",
              "      <td>170.000000</td>\n",
              "      <td>237.000000</td>\n",
              "      <td>0.000000</td>\n",
              "      <td>170.000000</td>\n",
              "      <td>0.000000</td>\n",
              "      <td>0.000000</td>\n",
              "    </tr>\n",
              "    <tr>\n",
              "      <th>3</th>\n",
              "      <td>31</td>\n",
              "      <td>110.000000</td>\n",
              "      <td>244.500000</td>\n",
              "      <td>0.000000</td>\n",
              "      <td>151.500000</td>\n",
              "      <td>0.750000</td>\n",
              "      <td>0.500000</td>\n",
              "    </tr>\n",
              "    <tr>\n",
              "      <th>4</th>\n",
              "      <td>32</td>\n",
              "      <td>110.600000</td>\n",
              "      <td>241.200000</td>\n",
              "      <td>0.200000</td>\n",
              "      <td>152.200000</td>\n",
              "      <td>0.140000</td>\n",
              "      <td>0.400000</td>\n",
              "    </tr>\n",
              "    <tr>\n",
              "      <th>5</th>\n",
              "      <td>33</td>\n",
              "      <td>110.000000</td>\n",
              "      <td>272.000000</td>\n",
              "      <td>0.000000</td>\n",
              "      <td>167.500000</td>\n",
              "      <td>0.500000</td>\n",
              "      <td>0.500000</td>\n",
              "    </tr>\n",
              "    <tr>\n",
              "      <th>6</th>\n",
              "      <td>34</td>\n",
              "      <td>124.142857</td>\n",
              "      <td>163.285714</td>\n",
              "      <td>0.142857</td>\n",
              "      <td>172.571429</td>\n",
              "      <td>0.128571</td>\n",
              "      <td>0.285714</td>\n",
              "    </tr>\n",
              "    <tr>\n",
              "      <th>7</th>\n",
              "      <td>35</td>\n",
              "      <td>126.272727</td>\n",
              "      <td>197.454545</td>\n",
              "      <td>0.090909</td>\n",
              "      <td>158.909091</td>\n",
              "      <td>0.372727</td>\n",
              "      <td>0.363636</td>\n",
              "    </tr>\n",
              "    <tr>\n",
              "      <th>8</th>\n",
              "      <td>36</td>\n",
              "      <td>123.666667</td>\n",
              "      <td>190.333333</td>\n",
              "      <td>0.166667</td>\n",
              "      <td>166.500000</td>\n",
              "      <td>0.833333</td>\n",
              "      <td>0.333333</td>\n",
              "    </tr>\n",
              "    <tr>\n",
              "      <th>9</th>\n",
              "      <td>37</td>\n",
              "      <td>127.090909</td>\n",
              "      <td>233.727273</td>\n",
              "      <td>0.000000</td>\n",
              "      <td>152.909091</td>\n",
              "      <td>0.545455</td>\n",
              "      <td>0.090909</td>\n",
              "    </tr>\n",
              "    <tr>\n",
              "      <th>10</th>\n",
              "      <td>38</td>\n",
              "      <td>120.000000</td>\n",
              "      <td>146.500000</td>\n",
              "      <td>0.187500</td>\n",
              "      <td>149.250000</td>\n",
              "      <td>0.700000</td>\n",
              "      <td>0.687500</td>\n",
              "    </tr>\n",
              "    <tr>\n",
              "      <th>11</th>\n",
              "      <td>39</td>\n",
              "      <td>127.333333</td>\n",
              "      <td>239.200000</td>\n",
              "      <td>0.066667</td>\n",
              "      <td>150.800000</td>\n",
              "      <td>0.280000</td>\n",
              "      <td>0.133333</td>\n",
              "    </tr>\n",
              "    <tr>\n",
              "      <th>12</th>\n",
              "      <td>40</td>\n",
              "      <td>128.307692</td>\n",
              "      <td>229.384615</td>\n",
              "      <td>0.230769</td>\n",
              "      <td>150.692308</td>\n",
              "      <td>0.492308</td>\n",
              "      <td>0.461538</td>\n",
              "    </tr>\n",
              "    <tr>\n",
              "      <th>13</th>\n",
              "      <td>41</td>\n",
              "      <td>120.458333</td>\n",
              "      <td>216.500000</td>\n",
              "      <td>0.083333</td>\n",
              "      <td>154.416667</td>\n",
              "      <td>0.520833</td>\n",
              "      <td>0.250000</td>\n",
              "    </tr>\n",
              "    <tr>\n",
              "      <th>14</th>\n",
              "      <td>42</td>\n",
              "      <td>129.166667</td>\n",
              "      <td>212.222222</td>\n",
              "      <td>0.111111</td>\n",
              "      <td>150.833333</td>\n",
              "      <td>0.222222</td>\n",
              "      <td>0.166667</td>\n",
              "    </tr>\n",
              "    <tr>\n",
              "      <th>15</th>\n",
              "      <td>43</td>\n",
              "      <td>126.666667</td>\n",
              "      <td>202.333333</td>\n",
              "      <td>0.125000</td>\n",
              "      <td>147.875000</td>\n",
              "      <td>0.829167</td>\n",
              "      <td>0.458333</td>\n",
              "    </tr>\n",
              "    <tr>\n",
              "      <th>16</th>\n",
              "      <td>44</td>\n",
              "      <td>125.947368</td>\n",
              "      <td>249.578947</td>\n",
              "      <td>0.000000</td>\n",
              "      <td>154.263158</td>\n",
              "      <td>0.531579</td>\n",
              "      <td>0.315789</td>\n",
              "    </tr>\n",
              "    <tr>\n",
              "      <th>17</th>\n",
              "      <td>45</td>\n",
              "      <td>129.222222</td>\n",
              "      <td>229.333333</td>\n",
              "      <td>0.055556</td>\n",
              "      <td>148.277778</td>\n",
              "      <td>0.333333</td>\n",
              "      <td>0.166667</td>\n",
              "    </tr>\n",
              "    <tr>\n",
              "      <th>18</th>\n",
              "      <td>46</td>\n",
              "      <td>126.375000</td>\n",
              "      <td>217.166667</td>\n",
              "      <td>0.125000</td>\n",
              "      <td>136.250000</td>\n",
              "      <td>0.520833</td>\n",
              "      <td>0.541667</td>\n",
              "    </tr>\n",
              "    <tr>\n",
              "      <th>19</th>\n",
              "      <td>47</td>\n",
              "      <td>132.526316</td>\n",
              "      <td>193.421053</td>\n",
              "      <td>0.210526</td>\n",
              "      <td>139.842105</td>\n",
              "      <td>0.773684</td>\n",
              "      <td>0.578947</td>\n",
              "    </tr>\n",
              "    <tr>\n",
              "      <th>20</th>\n",
              "      <td>48</td>\n",
              "      <td>128.000000</td>\n",
              "      <td>228.193548</td>\n",
              "      <td>0.258065</td>\n",
              "      <td>136.161290</td>\n",
              "      <td>0.729032</td>\n",
              "      <td>0.483871</td>\n",
              "    </tr>\n",
              "    <tr>\n",
              "      <th>21</th>\n",
              "      <td>49</td>\n",
              "      <td>129.047619</td>\n",
              "      <td>213.476190</td>\n",
              "      <td>0.000000</td>\n",
              "      <td>146.619048</td>\n",
              "      <td>0.661905</td>\n",
              "      <td>0.523810</td>\n",
              "    </tr>\n",
              "    <tr>\n",
              "      <th>22</th>\n",
              "      <td>50</td>\n",
              "      <td>135.000000</td>\n",
              "      <td>199.200000</td>\n",
              "      <td>0.080000</td>\n",
              "      <td>139.360000</td>\n",
              "      <td>0.824000</td>\n",
              "      <td>0.560000</td>\n",
              "    </tr>\n",
              "    <tr>\n",
              "      <th>23</th>\n",
              "      <td>51</td>\n",
              "      <td>127.742857</td>\n",
              "      <td>175.885714</td>\n",
              "      <td>0.342857</td>\n",
              "      <td>135.742857</td>\n",
              "      <td>0.825714</td>\n",
              "      <td>0.428571</td>\n",
              "    </tr>\n",
              "    <tr>\n",
              "      <th>24</th>\n",
              "      <td>52</td>\n",
              "      <td>133.638889</td>\n",
              "      <td>200.277778</td>\n",
              "      <td>0.250000</td>\n",
              "      <td>141.944444</td>\n",
              "      <td>0.866667</td>\n",
              "      <td>0.527778</td>\n",
              "    </tr>\n",
              "    <tr>\n",
              "      <th>25</th>\n",
              "      <td>53</td>\n",
              "      <td>131.090909</td>\n",
              "      <td>181.030303</td>\n",
              "      <td>0.272727</td>\n",
              "      <td>131.575758</td>\n",
              "      <td>0.718182</td>\n",
              "      <td>0.454545</td>\n",
              "    </tr>\n",
              "    <tr>\n",
              "      <th>26</th>\n",
              "      <td>54</td>\n",
              "      <td>133.568627</td>\n",
              "      <td>231.980392</td>\n",
              "      <td>0.156863</td>\n",
              "      <td>137.294118</td>\n",
              "      <td>0.845098</td>\n",
              "      <td>0.450980</td>\n",
              "    </tr>\n",
              "    <tr>\n",
              "      <th>27</th>\n",
              "      <td>55</td>\n",
              "      <td>131.317073</td>\n",
              "      <td>218.463415</td>\n",
              "      <td>0.195122</td>\n",
              "      <td>133.390244</td>\n",
              "      <td>1.034146</td>\n",
              "      <td>0.585366</td>\n",
              "    </tr>\n",
              "    <tr>\n",
              "      <th>28</th>\n",
              "      <td>56</td>\n",
              "      <td>133.894737</td>\n",
              "      <td>174.789474</td>\n",
              "      <td>0.368421</td>\n",
              "      <td>128.894737</td>\n",
              "      <td>0.978947</td>\n",
              "      <td>0.657895</td>\n",
              "    </tr>\n",
              "    <tr>\n",
              "      <th>29</th>\n",
              "      <td>57</td>\n",
              "      <td>136.368421</td>\n",
              "      <td>202.315789</td>\n",
              "      <td>0.342105</td>\n",
              "      <td>133.631579</td>\n",
              "      <td>1.002632</td>\n",
              "      <td>0.684211</td>\n",
              "    </tr>\n",
              "    <tr>\n",
              "      <th>30</th>\n",
              "      <td>58</td>\n",
              "      <td>132.000000</td>\n",
              "      <td>217.285714</td>\n",
              "      <td>0.285714</td>\n",
              "      <td>130.380952</td>\n",
              "      <td>1.007143</td>\n",
              "      <td>0.666667</td>\n",
              "    </tr>\n",
              "    <tr>\n",
              "      <th>31</th>\n",
              "      <td>59</td>\n",
              "      <td>141.085714</td>\n",
              "      <td>175.714286</td>\n",
              "      <td>0.257143</td>\n",
              "      <td>134.600000</td>\n",
              "      <td>0.982857</td>\n",
              "      <td>0.657143</td>\n",
              "    </tr>\n",
              "    <tr>\n",
              "      <th>32</th>\n",
              "      <td>60</td>\n",
              "      <td>135.468750</td>\n",
              "      <td>167.656250</td>\n",
              "      <td>0.343750</td>\n",
              "      <td>135.250000</td>\n",
              "      <td>1.218750</td>\n",
              "      <td>0.750000</td>\n",
              "    </tr>\n",
              "    <tr>\n",
              "      <th>33</th>\n",
              "      <td>61</td>\n",
              "      <td>137.483871</td>\n",
              "      <td>162.580645</td>\n",
              "      <td>0.354839</td>\n",
              "      <td>121.000000</td>\n",
              "      <td>1.303226</td>\n",
              "      <td>0.838710</td>\n",
              "    </tr>\n",
              "    <tr>\n",
              "      <th>34</th>\n",
              "      <td>62</td>\n",
              "      <td>134.885714</td>\n",
              "      <td>166.742857</td>\n",
              "      <td>0.314286</td>\n",
              "      <td>121.028571</td>\n",
              "      <td>1.214286</td>\n",
              "      <td>0.714286</td>\n",
              "    </tr>\n",
              "    <tr>\n",
              "      <th>35</th>\n",
              "      <td>63</td>\n",
              "      <td>136.833333</td>\n",
              "      <td>157.600000</td>\n",
              "      <td>0.300000</td>\n",
              "      <td>128.933333</td>\n",
              "      <td>1.420000</td>\n",
              "      <td>0.766667</td>\n",
              "    </tr>\n",
              "    <tr>\n",
              "      <th>36</th>\n",
              "      <td>64</td>\n",
              "      <td>137.590909</td>\n",
              "      <td>205.318182</td>\n",
              "      <td>0.272727</td>\n",
              "      <td>128.318182</td>\n",
              "      <td>1.204545</td>\n",
              "      <td>0.681818</td>\n",
              "    </tr>\n",
              "    <tr>\n",
              "      <th>37</th>\n",
              "      <td>65</td>\n",
              "      <td>141.761905</td>\n",
              "      <td>207.571429</td>\n",
              "      <td>0.333333</td>\n",
              "      <td>125.904762</td>\n",
              "      <td>1.171429</td>\n",
              "      <td>0.714286</td>\n",
              "    </tr>\n",
              "    <tr>\n",
              "      <th>38</th>\n",
              "      <td>66</td>\n",
              "      <td>139.461538</td>\n",
              "      <td>179.461538</td>\n",
              "      <td>0.230769</td>\n",
              "      <td>124.846154</td>\n",
              "      <td>0.900000</td>\n",
              "      <td>0.538462</td>\n",
              "    </tr>\n",
              "    <tr>\n",
              "      <th>39</th>\n",
              "      <td>67</td>\n",
              "      <td>133.533333</td>\n",
              "      <td>254.866667</td>\n",
              "      <td>0.266667</td>\n",
              "      <td>132.133333</td>\n",
              "      <td>1.120000</td>\n",
              "      <td>0.800000</td>\n",
              "    </tr>\n",
              "    <tr>\n",
              "      <th>40</th>\n",
              "      <td>68</td>\n",
              "      <td>140.300000</td>\n",
              "      <td>158.500000</td>\n",
              "      <td>0.600000</td>\n",
              "      <td>136.100000</td>\n",
              "      <td>1.250000</td>\n",
              "      <td>0.600000</td>\n",
              "    </tr>\n",
              "    <tr>\n",
              "      <th>41</th>\n",
              "      <td>69</td>\n",
              "      <td>139.461538</td>\n",
              "      <td>156.230769</td>\n",
              "      <td>0.538462</td>\n",
              "      <td>122.307692</td>\n",
              "      <td>1.238462</td>\n",
              "      <td>0.769231</td>\n",
              "    </tr>\n",
              "    <tr>\n",
              "      <th>42</th>\n",
              "      <td>70</td>\n",
              "      <td>145.142857</td>\n",
              "      <td>171.714286</td>\n",
              "      <td>0.142857</td>\n",
              "      <td>123.857143</td>\n",
              "      <td>1.842857</td>\n",
              "      <td>0.857143</td>\n",
              "    </tr>\n",
              "    <tr>\n",
              "      <th>43</th>\n",
              "      <td>71</td>\n",
              "      <td>131.200000</td>\n",
              "      <td>231.600000</td>\n",
              "      <td>0.200000</td>\n",
              "      <td>128.000000</td>\n",
              "      <td>0.760000</td>\n",
              "      <td>0.400000</td>\n",
              "    </tr>\n",
              "    <tr>\n",
              "      <th>44</th>\n",
              "      <td>72</td>\n",
              "      <td>145.750000</td>\n",
              "      <td>137.000000</td>\n",
              "      <td>0.250000</td>\n",
              "      <td>113.750000</td>\n",
              "      <td>1.375000</td>\n",
              "      <td>0.750000</td>\n",
              "    </tr>\n",
              "    <tr>\n",
              "      <th>45</th>\n",
              "      <td>73</td>\n",
              "      <td>160.000000</td>\n",
              "      <td>0.000000</td>\n",
              "      <td>0.000000</td>\n",
              "      <td>121.000000</td>\n",
              "      <td>0.000000</td>\n",
              "      <td>1.000000</td>\n",
              "    </tr>\n",
              "    <tr>\n",
              "      <th>46</th>\n",
              "      <td>74</td>\n",
              "      <td>141.857143</td>\n",
              "      <td>184.285714</td>\n",
              "      <td>0.571429</td>\n",
              "      <td>116.000000</td>\n",
              "      <td>1.285714</td>\n",
              "      <td>0.714286</td>\n",
              "    </tr>\n",
              "    <tr>\n",
              "      <th>47</th>\n",
              "      <td>75</td>\n",
              "      <td>155.333333</td>\n",
              "      <td>246.000000</td>\n",
              "      <td>0.666667</td>\n",
              "      <td>110.666667</td>\n",
              "      <td>1.666667</td>\n",
              "      <td>0.666667</td>\n",
              "    </tr>\n",
              "    <tr>\n",
              "      <th>48</th>\n",
              "      <td>76</td>\n",
              "      <td>122.000000</td>\n",
              "      <td>155.000000</td>\n",
              "      <td>0.000000</td>\n",
              "      <td>118.000000</td>\n",
              "      <td>2.300000</td>\n",
              "      <td>0.500000</td>\n",
              "    </tr>\n",
              "    <tr>\n",
              "      <th>49</th>\n",
              "      <td>77</td>\n",
              "      <td>124.500000</td>\n",
              "      <td>237.500000</td>\n",
              "      <td>0.000000</td>\n",
              "      <td>136.000000</td>\n",
              "      <td>1.000000</td>\n",
              "      <td>1.000000</td>\n",
              "    </tr>\n",
              "  </tbody>\n",
              "</table>\n",
              "</div>\n",
              "      <button class=\"colab-df-convert\" onclick=\"convertToInteractive('df-0911aecf-91f4-4548-89c7-fa4f1db892c9')\"\n",
              "              title=\"Convert this dataframe to an interactive table.\"\n",
              "              style=\"display:none;\">\n",
              "        \n",
              "  <svg xmlns=\"http://www.w3.org/2000/svg\" height=\"24px\"viewBox=\"0 0 24 24\"\n",
              "       width=\"24px\">\n",
              "    <path d=\"M0 0h24v24H0V0z\" fill=\"none\"/>\n",
              "    <path d=\"M18.56 5.44l.94 2.06.94-2.06 2.06-.94-2.06-.94-.94-2.06-.94 2.06-2.06.94zm-11 1L8.5 8.5l.94-2.06 2.06-.94-2.06-.94L8.5 2.5l-.94 2.06-2.06.94zm10 10l.94 2.06.94-2.06 2.06-.94-2.06-.94-.94-2.06-.94 2.06-2.06.94z\"/><path d=\"M17.41 7.96l-1.37-1.37c-.4-.4-.92-.59-1.43-.59-.52 0-1.04.2-1.43.59L10.3 9.45l-7.72 7.72c-.78.78-.78 2.05 0 2.83L4 21.41c.39.39.9.59 1.41.59.51 0 1.02-.2 1.41-.59l7.78-7.78 2.81-2.81c.8-.78.8-2.07 0-2.86zM5.41 20L4 18.59l7.72-7.72 1.47 1.35L5.41 20z\"/>\n",
              "  </svg>\n",
              "      </button>\n",
              "      \n",
              "  <style>\n",
              "    .colab-df-container {\n",
              "      display:flex;\n",
              "      flex-wrap:wrap;\n",
              "      gap: 12px;\n",
              "    }\n",
              "\n",
              "    .colab-df-convert {\n",
              "      background-color: #E8F0FE;\n",
              "      border: none;\n",
              "      border-radius: 50%;\n",
              "      cursor: pointer;\n",
              "      display: none;\n",
              "      fill: #1967D2;\n",
              "      height: 32px;\n",
              "      padding: 0 0 0 0;\n",
              "      width: 32px;\n",
              "    }\n",
              "\n",
              "    .colab-df-convert:hover {\n",
              "      background-color: #E2EBFA;\n",
              "      box-shadow: 0px 1px 2px rgba(60, 64, 67, 0.3), 0px 1px 3px 1px rgba(60, 64, 67, 0.15);\n",
              "      fill: #174EA6;\n",
              "    }\n",
              "\n",
              "    [theme=dark] .colab-df-convert {\n",
              "      background-color: #3B4455;\n",
              "      fill: #D2E3FC;\n",
              "    }\n",
              "\n",
              "    [theme=dark] .colab-df-convert:hover {\n",
              "      background-color: #434B5C;\n",
              "      box-shadow: 0px 1px 3px 1px rgba(0, 0, 0, 0.15);\n",
              "      filter: drop-shadow(0px 1px 2px rgba(0, 0, 0, 0.3));\n",
              "      fill: #FFFFFF;\n",
              "    }\n",
              "  </style>\n",
              "\n",
              "      <script>\n",
              "        const buttonEl =\n",
              "          document.querySelector('#df-0911aecf-91f4-4548-89c7-fa4f1db892c9 button.colab-df-convert');\n",
              "        buttonEl.style.display =\n",
              "          google.colab.kernel.accessAllowed ? 'block' : 'none';\n",
              "\n",
              "        async function convertToInteractive(key) {\n",
              "          const element = document.querySelector('#df-0911aecf-91f4-4548-89c7-fa4f1db892c9');\n",
              "          const dataTable =\n",
              "            await google.colab.kernel.invokeFunction('convertToInteractive',\n",
              "                                                     [key], {});\n",
              "          if (!dataTable) return;\n",
              "\n",
              "          const docLinkHtml = 'Like what you see? Visit the ' +\n",
              "            '<a target=\"_blank\" href=https://colab.research.google.com/notebooks/data_table.ipynb>data table notebook</a>'\n",
              "            + ' to learn more about interactive tables.';\n",
              "          element.innerHTML = '';\n",
              "          dataTable['output_type'] = 'display_data';\n",
              "          await google.colab.output.renderOutput(dataTable, element);\n",
              "          const docLink = document.createElement('div');\n",
              "          docLink.innerHTML = docLinkHtml;\n",
              "          element.appendChild(docLink);\n",
              "        }\n",
              "      </script>\n",
              "    </div>\n",
              "  </div>\n",
              "  "
            ]
          },
          "metadata": {},
          "execution_count": 15
        }
      ],
      "source": [
        "data_num_cols = data_num_cols.groupby('Age').mean()\n",
        "data_num_cols.reset_index()"
      ]
    },
    {
      "cell_type": "code",
      "execution_count": 16,
      "id": "e90d9fc6",
      "metadata": {
        "execution": {
          "iopub.execute_input": "2022-09-23T15:31:38.289163Z",
          "iopub.status.busy": "2022-09-23T15:31:38.288780Z",
          "iopub.status.idle": "2022-09-23T15:31:38.296101Z",
          "shell.execute_reply": "2022-09-23T15:31:38.294953Z"
        },
        "papermill": {
          "duration": 0.029074,
          "end_time": "2022-09-23T15:31:38.298449",
          "exception": false,
          "start_time": "2022-09-23T15:31:38.269375",
          "status": "completed"
        },
        "tags": [],
        "id": "e90d9fc6"
      },
      "outputs": [],
      "source": [
        "normal = (data.loc[data.HeartDisease==0])\n",
        "heart_disease = (data.loc[data.HeartDisease==1])"
      ]
    },
    {
      "cell_type": "code",
      "execution_count": 17,
      "id": "657d90bf",
      "metadata": {
        "execution": {
          "iopub.execute_input": "2022-09-23T15:31:38.336435Z",
          "iopub.status.busy": "2022-09-23T15:31:38.336039Z",
          "iopub.status.idle": "2022-09-23T15:31:38.354317Z",
          "shell.execute_reply": "2022-09-23T15:31:38.353241Z"
        },
        "papermill": {
          "duration": 0.040251,
          "end_time": "2022-09-23T15:31:38.356669",
          "exception": false,
          "start_time": "2022-09-23T15:31:38.316418",
          "status": "completed"
        },
        "tags": [],
        "colab": {
          "base_uri": "https://localhost:8080/",
          "height": 206
        },
        "id": "657d90bf",
        "outputId": "813ce8ae-681d-437d-c76d-f7fcf83b43cc"
      },
      "outputs": [
        {
          "output_type": "execute_result",
          "data": {
            "text/plain": [
              "   Age   RestingBP  Cholesterol  FastingBS       MaxHR  Oldpeak\n",
              "0   28  130.000000   132.000000        0.0  185.000000      0.0\n",
              "1   29  130.000000   236.666667        0.0  177.333333      0.0\n",
              "2   30  170.000000   237.000000        0.0  170.000000      0.0\n",
              "3   31  100.000000   219.000000        0.0  150.000000      0.0\n",
              "4   32  113.333333   225.666667        0.0  168.000000      0.0"
            ],
            "text/html": [
              "\n",
              "  <div id=\"df-30a892a0-cc1a-46b3-b325-9b8a823f0110\">\n",
              "    <div class=\"colab-df-container\">\n",
              "      <div>\n",
              "<style scoped>\n",
              "    .dataframe tbody tr th:only-of-type {\n",
              "        vertical-align: middle;\n",
              "    }\n",
              "\n",
              "    .dataframe tbody tr th {\n",
              "        vertical-align: top;\n",
              "    }\n",
              "\n",
              "    .dataframe thead th {\n",
              "        text-align: right;\n",
              "    }\n",
              "</style>\n",
              "<table border=\"1\" class=\"dataframe\">\n",
              "  <thead>\n",
              "    <tr style=\"text-align: right;\">\n",
              "      <th></th>\n",
              "      <th>Age</th>\n",
              "      <th>RestingBP</th>\n",
              "      <th>Cholesterol</th>\n",
              "      <th>FastingBS</th>\n",
              "      <th>MaxHR</th>\n",
              "      <th>Oldpeak</th>\n",
              "    </tr>\n",
              "  </thead>\n",
              "  <tbody>\n",
              "    <tr>\n",
              "      <th>0</th>\n",
              "      <td>28</td>\n",
              "      <td>130.000000</td>\n",
              "      <td>132.000000</td>\n",
              "      <td>0.0</td>\n",
              "      <td>185.000000</td>\n",
              "      <td>0.0</td>\n",
              "    </tr>\n",
              "    <tr>\n",
              "      <th>1</th>\n",
              "      <td>29</td>\n",
              "      <td>130.000000</td>\n",
              "      <td>236.666667</td>\n",
              "      <td>0.0</td>\n",
              "      <td>177.333333</td>\n",
              "      <td>0.0</td>\n",
              "    </tr>\n",
              "    <tr>\n",
              "      <th>2</th>\n",
              "      <td>30</td>\n",
              "      <td>170.000000</td>\n",
              "      <td>237.000000</td>\n",
              "      <td>0.0</td>\n",
              "      <td>170.000000</td>\n",
              "      <td>0.0</td>\n",
              "    </tr>\n",
              "    <tr>\n",
              "      <th>3</th>\n",
              "      <td>31</td>\n",
              "      <td>100.000000</td>\n",
              "      <td>219.000000</td>\n",
              "      <td>0.0</td>\n",
              "      <td>150.000000</td>\n",
              "      <td>0.0</td>\n",
              "    </tr>\n",
              "    <tr>\n",
              "      <th>4</th>\n",
              "      <td>32</td>\n",
              "      <td>113.333333</td>\n",
              "      <td>225.666667</td>\n",
              "      <td>0.0</td>\n",
              "      <td>168.000000</td>\n",
              "      <td>0.0</td>\n",
              "    </tr>\n",
              "  </tbody>\n",
              "</table>\n",
              "</div>\n",
              "      <button class=\"colab-df-convert\" onclick=\"convertToInteractive('df-30a892a0-cc1a-46b3-b325-9b8a823f0110')\"\n",
              "              title=\"Convert this dataframe to an interactive table.\"\n",
              "              style=\"display:none;\">\n",
              "        \n",
              "  <svg xmlns=\"http://www.w3.org/2000/svg\" height=\"24px\"viewBox=\"0 0 24 24\"\n",
              "       width=\"24px\">\n",
              "    <path d=\"M0 0h24v24H0V0z\" fill=\"none\"/>\n",
              "    <path d=\"M18.56 5.44l.94 2.06.94-2.06 2.06-.94-2.06-.94-.94-2.06-.94 2.06-2.06.94zm-11 1L8.5 8.5l.94-2.06 2.06-.94-2.06-.94L8.5 2.5l-.94 2.06-2.06.94zm10 10l.94 2.06.94-2.06 2.06-.94-2.06-.94-.94-2.06-.94 2.06-2.06.94z\"/><path d=\"M17.41 7.96l-1.37-1.37c-.4-.4-.92-.59-1.43-.59-.52 0-1.04.2-1.43.59L10.3 9.45l-7.72 7.72c-.78.78-.78 2.05 0 2.83L4 21.41c.39.39.9.59 1.41.59.51 0 1.02-.2 1.41-.59l7.78-7.78 2.81-2.81c.8-.78.8-2.07 0-2.86zM5.41 20L4 18.59l7.72-7.72 1.47 1.35L5.41 20z\"/>\n",
              "  </svg>\n",
              "      </button>\n",
              "      \n",
              "  <style>\n",
              "    .colab-df-container {\n",
              "      display:flex;\n",
              "      flex-wrap:wrap;\n",
              "      gap: 12px;\n",
              "    }\n",
              "\n",
              "    .colab-df-convert {\n",
              "      background-color: #E8F0FE;\n",
              "      border: none;\n",
              "      border-radius: 50%;\n",
              "      cursor: pointer;\n",
              "      display: none;\n",
              "      fill: #1967D2;\n",
              "      height: 32px;\n",
              "      padding: 0 0 0 0;\n",
              "      width: 32px;\n",
              "    }\n",
              "\n",
              "    .colab-df-convert:hover {\n",
              "      background-color: #E2EBFA;\n",
              "      box-shadow: 0px 1px 2px rgba(60, 64, 67, 0.3), 0px 1px 3px 1px rgba(60, 64, 67, 0.15);\n",
              "      fill: #174EA6;\n",
              "    }\n",
              "\n",
              "    [theme=dark] .colab-df-convert {\n",
              "      background-color: #3B4455;\n",
              "      fill: #D2E3FC;\n",
              "    }\n",
              "\n",
              "    [theme=dark] .colab-df-convert:hover {\n",
              "      background-color: #434B5C;\n",
              "      box-shadow: 0px 1px 3px 1px rgba(0, 0, 0, 0.15);\n",
              "      filter: drop-shadow(0px 1px 2px rgba(0, 0, 0, 0.3));\n",
              "      fill: #FFFFFF;\n",
              "    }\n",
              "  </style>\n",
              "\n",
              "      <script>\n",
              "        const buttonEl =\n",
              "          document.querySelector('#df-30a892a0-cc1a-46b3-b325-9b8a823f0110 button.colab-df-convert');\n",
              "        buttonEl.style.display =\n",
              "          google.colab.kernel.accessAllowed ? 'block' : 'none';\n",
              "\n",
              "        async function convertToInteractive(key) {\n",
              "          const element = document.querySelector('#df-30a892a0-cc1a-46b3-b325-9b8a823f0110');\n",
              "          const dataTable =\n",
              "            await google.colab.kernel.invokeFunction('convertToInteractive',\n",
              "                                                     [key], {});\n",
              "          if (!dataTable) return;\n",
              "\n",
              "          const docLinkHtml = 'Like what you see? Visit the ' +\n",
              "            '<a target=\"_blank\" href=https://colab.research.google.com/notebooks/data_table.ipynb>data table notebook</a>'\n",
              "            + ' to learn more about interactive tables.';\n",
              "          element.innerHTML = '';\n",
              "          dataTable['output_type'] = 'display_data';\n",
              "          await google.colab.output.renderOutput(dataTable, element);\n",
              "          const docLink = document.createElement('div');\n",
              "          docLink.innerHTML = docLinkHtml;\n",
              "          element.appendChild(docLink);\n",
              "        }\n",
              "      </script>\n",
              "    </div>\n",
              "  </div>\n",
              "  "
            ]
          },
          "metadata": {},
          "execution_count": 17
        }
      ],
      "source": [
        "normal_people = normal.groupby('Age').mean()\n",
        "normal_people.drop(['HeartDisease'],axis=1,inplace=True)\n",
        "normal_people.reset_index().head()"
      ]
    },
    {
      "cell_type": "code",
      "execution_count": 18,
      "id": "15b7995b",
      "metadata": {
        "execution": {
          "iopub.execute_input": "2022-09-23T15:31:38.395225Z",
          "iopub.status.busy": "2022-09-23T15:31:38.394452Z",
          "iopub.status.idle": "2022-09-23T15:31:38.414772Z",
          "shell.execute_reply": "2022-09-23T15:31:38.413486Z"
        },
        "papermill": {
          "duration": 0.042271,
          "end_time": "2022-09-23T15:31:38.417234",
          "exception": false,
          "start_time": "2022-09-23T15:31:38.374963",
          "status": "completed"
        },
        "tags": [],
        "colab": {
          "base_uri": "https://localhost:8080/",
          "height": 206
        },
        "id": "15b7995b",
        "outputId": "d05343f9-43be-43f7-b93f-5afa2c9cd354"
      },
      "outputs": [
        {
          "output_type": "execute_result",
          "data": {
            "text/plain": [
              "   Age  RestingBP  Cholesterol  FastingBS  MaxHR  Oldpeak\n",
              "0   31      120.0       270.00       0.00  153.0     1.50\n",
              "1   32      106.5       264.50       0.50  128.5     0.35\n",
              "2   33      100.0       246.00       0.00  150.0     1.00\n",
              "3   34      127.5        78.00       0.50  167.0     0.10\n",
              "4   35      119.0       184.25       0.25  139.0     0.70"
            ],
            "text/html": [
              "\n",
              "  <div id=\"df-9d9c684c-64d2-4af1-82d4-36e8eddb9f85\">\n",
              "    <div class=\"colab-df-container\">\n",
              "      <div>\n",
              "<style scoped>\n",
              "    .dataframe tbody tr th:only-of-type {\n",
              "        vertical-align: middle;\n",
              "    }\n",
              "\n",
              "    .dataframe tbody tr th {\n",
              "        vertical-align: top;\n",
              "    }\n",
              "\n",
              "    .dataframe thead th {\n",
              "        text-align: right;\n",
              "    }\n",
              "</style>\n",
              "<table border=\"1\" class=\"dataframe\">\n",
              "  <thead>\n",
              "    <tr style=\"text-align: right;\">\n",
              "      <th></th>\n",
              "      <th>Age</th>\n",
              "      <th>RestingBP</th>\n",
              "      <th>Cholesterol</th>\n",
              "      <th>FastingBS</th>\n",
              "      <th>MaxHR</th>\n",
              "      <th>Oldpeak</th>\n",
              "    </tr>\n",
              "  </thead>\n",
              "  <tbody>\n",
              "    <tr>\n",
              "      <th>0</th>\n",
              "      <td>31</td>\n",
              "      <td>120.0</td>\n",
              "      <td>270.00</td>\n",
              "      <td>0.00</td>\n",
              "      <td>153.0</td>\n",
              "      <td>1.50</td>\n",
              "    </tr>\n",
              "    <tr>\n",
              "      <th>1</th>\n",
              "      <td>32</td>\n",
              "      <td>106.5</td>\n",
              "      <td>264.50</td>\n",
              "      <td>0.50</td>\n",
              "      <td>128.5</td>\n",
              "      <td>0.35</td>\n",
              "    </tr>\n",
              "    <tr>\n",
              "      <th>2</th>\n",
              "      <td>33</td>\n",
              "      <td>100.0</td>\n",
              "      <td>246.00</td>\n",
              "      <td>0.00</td>\n",
              "      <td>150.0</td>\n",
              "      <td>1.00</td>\n",
              "    </tr>\n",
              "    <tr>\n",
              "      <th>3</th>\n",
              "      <td>34</td>\n",
              "      <td>127.5</td>\n",
              "      <td>78.00</td>\n",
              "      <td>0.50</td>\n",
              "      <td>167.0</td>\n",
              "      <td>0.10</td>\n",
              "    </tr>\n",
              "    <tr>\n",
              "      <th>4</th>\n",
              "      <td>35</td>\n",
              "      <td>119.0</td>\n",
              "      <td>184.25</td>\n",
              "      <td>0.25</td>\n",
              "      <td>139.0</td>\n",
              "      <td>0.70</td>\n",
              "    </tr>\n",
              "  </tbody>\n",
              "</table>\n",
              "</div>\n",
              "      <button class=\"colab-df-convert\" onclick=\"convertToInteractive('df-9d9c684c-64d2-4af1-82d4-36e8eddb9f85')\"\n",
              "              title=\"Convert this dataframe to an interactive table.\"\n",
              "              style=\"display:none;\">\n",
              "        \n",
              "  <svg xmlns=\"http://www.w3.org/2000/svg\" height=\"24px\"viewBox=\"0 0 24 24\"\n",
              "       width=\"24px\">\n",
              "    <path d=\"M0 0h24v24H0V0z\" fill=\"none\"/>\n",
              "    <path d=\"M18.56 5.44l.94 2.06.94-2.06 2.06-.94-2.06-.94-.94-2.06-.94 2.06-2.06.94zm-11 1L8.5 8.5l.94-2.06 2.06-.94-2.06-.94L8.5 2.5l-.94 2.06-2.06.94zm10 10l.94 2.06.94-2.06 2.06-.94-2.06-.94-.94-2.06-.94 2.06-2.06.94z\"/><path d=\"M17.41 7.96l-1.37-1.37c-.4-.4-.92-.59-1.43-.59-.52 0-1.04.2-1.43.59L10.3 9.45l-7.72 7.72c-.78.78-.78 2.05 0 2.83L4 21.41c.39.39.9.59 1.41.59.51 0 1.02-.2 1.41-.59l7.78-7.78 2.81-2.81c.8-.78.8-2.07 0-2.86zM5.41 20L4 18.59l7.72-7.72 1.47 1.35L5.41 20z\"/>\n",
              "  </svg>\n",
              "      </button>\n",
              "      \n",
              "  <style>\n",
              "    .colab-df-container {\n",
              "      display:flex;\n",
              "      flex-wrap:wrap;\n",
              "      gap: 12px;\n",
              "    }\n",
              "\n",
              "    .colab-df-convert {\n",
              "      background-color: #E8F0FE;\n",
              "      border: none;\n",
              "      border-radius: 50%;\n",
              "      cursor: pointer;\n",
              "      display: none;\n",
              "      fill: #1967D2;\n",
              "      height: 32px;\n",
              "      padding: 0 0 0 0;\n",
              "      width: 32px;\n",
              "    }\n",
              "\n",
              "    .colab-df-convert:hover {\n",
              "      background-color: #E2EBFA;\n",
              "      box-shadow: 0px 1px 2px rgba(60, 64, 67, 0.3), 0px 1px 3px 1px rgba(60, 64, 67, 0.15);\n",
              "      fill: #174EA6;\n",
              "    }\n",
              "\n",
              "    [theme=dark] .colab-df-convert {\n",
              "      background-color: #3B4455;\n",
              "      fill: #D2E3FC;\n",
              "    }\n",
              "\n",
              "    [theme=dark] .colab-df-convert:hover {\n",
              "      background-color: #434B5C;\n",
              "      box-shadow: 0px 1px 3px 1px rgba(0, 0, 0, 0.15);\n",
              "      filter: drop-shadow(0px 1px 2px rgba(0, 0, 0, 0.3));\n",
              "      fill: #FFFFFF;\n",
              "    }\n",
              "  </style>\n",
              "\n",
              "      <script>\n",
              "        const buttonEl =\n",
              "          document.querySelector('#df-9d9c684c-64d2-4af1-82d4-36e8eddb9f85 button.colab-df-convert');\n",
              "        buttonEl.style.display =\n",
              "          google.colab.kernel.accessAllowed ? 'block' : 'none';\n",
              "\n",
              "        async function convertToInteractive(key) {\n",
              "          const element = document.querySelector('#df-9d9c684c-64d2-4af1-82d4-36e8eddb9f85');\n",
              "          const dataTable =\n",
              "            await google.colab.kernel.invokeFunction('convertToInteractive',\n",
              "                                                     [key], {});\n",
              "          if (!dataTable) return;\n",
              "\n",
              "          const docLinkHtml = 'Like what you see? Visit the ' +\n",
              "            '<a target=\"_blank\" href=https://colab.research.google.com/notebooks/data_table.ipynb>data table notebook</a>'\n",
              "            + ' to learn more about interactive tables.';\n",
              "          element.innerHTML = '';\n",
              "          dataTable['output_type'] = 'display_data';\n",
              "          await google.colab.output.renderOutput(dataTable, element);\n",
              "          const docLink = document.createElement('div');\n",
              "          docLink.innerHTML = docLinkHtml;\n",
              "          element.appendChild(docLink);\n",
              "        }\n",
              "      </script>\n",
              "    </div>\n",
              "  </div>\n",
              "  "
            ]
          },
          "metadata": {},
          "execution_count": 18
        }
      ],
      "source": [
        "heart_disease_people = heart_disease.groupby('Age').mean()\n",
        "heart_disease_people.drop(['HeartDisease'],axis=1,inplace=True)\n",
        "heart_disease_people.reset_index().head()"
      ]
    },
    {
      "cell_type": "markdown",
      "id": "9d0b6c17",
      "metadata": {
        "papermill": {
          "duration": 0.018535,
          "end_time": "2022-09-23T15:31:38.454313",
          "exception": false,
          "start_time": "2022-09-23T15:31:38.435778",
          "status": "completed"
        },
        "tags": [],
        "id": "9d0b6c17"
      },
      "source": [
        "# Numerical Data Visualization"
      ]
    },
    {
      "cell_type": "code",
      "execution_count": 19,
      "id": "79864a02",
      "metadata": {
        "execution": {
          "iopub.execute_input": "2022-09-23T15:31:38.492894Z",
          "iopub.status.busy": "2022-09-23T15:31:38.492218Z",
          "iopub.status.idle": "2022-09-23T15:31:40.982705Z",
          "shell.execute_reply": "2022-09-23T15:31:40.981597Z"
        },
        "papermill": {
          "duration": 2.512714,
          "end_time": "2022-09-23T15:31:40.985222",
          "exception": false,
          "start_time": "2022-09-23T15:31:38.472508",
          "status": "completed"
        },
        "tags": [],
        "colab": {
          "base_uri": "https://localhost:8080/",
          "height": 382
        },
        "id": "79864a02",
        "outputId": "5aa54d07-76e5-45f0-c968-bbc210f19a00"
      },
      "outputs": [
        {
          "output_type": "display_data",
          "data": {
            "text/plain": [
              "<Figure size 1440x576 with 1 Axes>"
            ],
            "image/png": "[encoded data removed]"
          },
          "metadata": {}
        }
      ],
      "source": [
        "plt.figure(figsize=(20,8))\n",
        "sns.barplot(x='RestingBP',y='Cholesterol',data=normal, palette='mako')\n",
        "sns.stripplot(x='RestingBP',y=\"Cholesterol\",data=normal, dodge='True', color='grey', alpha=.8, s=2)\n",
        "plt.title(\"Demonstration of blood pressure and cholesterol in healthy people\");"
      ]
    },
    {
      "cell_type": "code",
      "execution_count": 20,
      "id": "b7ec561e",
      "metadata": {
        "execution": {
          "iopub.execute_input": "2022-09-23T15:31:41.026529Z",
          "iopub.status.busy": "2022-09-23T15:31:41.025924Z",
          "iopub.status.idle": "2022-09-23T15:31:44.822076Z",
          "shell.execute_reply": "2022-09-23T15:31:44.820806Z"
        },
        "papermill": {
          "duration": 3.820206,
          "end_time": "2022-09-23T15:31:44.824920",
          "exception": false,
          "start_time": "2022-09-23T15:31:41.004714",
          "status": "completed"
        },
        "tags": [],
        "colab": {
          "base_uri": "https://localhost:8080/",
          "height": 350
        },
        "id": "b7ec561e",
        "outputId": "b17e1844-d376-4ebf-fd94-fa29a5515f5c"
      },
      "outputs": [
        {
          "output_type": "display_data",
          "data": {
            "text/plain": [
              "<Figure size 1584x576 with 1 Axes>"
            ],
            "image/png": "[encoded data removed]"
          },
          "metadata": {}
        }
      ],
      "source": [
        "plt.figure(figsize=(22,8))\n",
        "sns.barplot(x='RestingBP',y='Cholesterol',data=heart_disease, palette='mako')\n",
        "sns.stripplot(x='RestingBP',y=\"Cholesterol\",data=heart_disease, dodge='True', color='grey', alpha=.8, s=2)\n",
        "plt.title(\"Demonstration of blood pressure and cholesterol in sick people\");"
      ]
    },
    {
      "cell_type": "code",
      "execution_count": 21,
      "id": "9d68330f",
      "metadata": {
        "execution": {
          "iopub.execute_input": "2022-09-23T15:31:44.869393Z",
          "iopub.status.busy": "2022-09-23T15:31:44.869006Z",
          "iopub.status.idle": "2022-09-23T15:31:45.576023Z",
          "shell.execute_reply": "2022-09-23T15:31:45.575065Z"
        },
        "papermill": {
          "duration": 0.732486,
          "end_time": "2022-09-23T15:31:45.579819",
          "exception": false,
          "start_time": "2022-09-23T15:31:44.847333",
          "status": "completed"
        },
        "tags": [],
        "colab": {
          "base_uri": "https://localhost:8080/",
          "height": 518
        },
        "id": "9d68330f",
        "outputId": "3cce88eb-fcae-4a10-bb91-619d3dd54e32"
      },
      "outputs": [
        {
          "output_type": "display_data",
          "data": {
            "text/plain": [
              "<Figure size 864x576 with 1 Axes>"
            ],
            "image/png": "[encoded data removed]"
          },
          "metadata": {}
        }
      ],
      "source": [
        "plt.figure(figsize=(12,8))\n",
        "plt.title(\"Age by chest pain type\")\n",
        "sns.boxplot(x='ChestPainType',y='Age',hue='HeartDisease',data=data, palette='mako')\n",
        "sns.swarmplot(x='ChestPainType',y='Age',hue='HeartDisease', dodge=True,data=data, alpha=.8,color='grey',s=4)\n",
        "plt.legend(bbox_to_anchor=(1.02, 1), loc='upper left', borderaxespad=0);"
      ]
    },
    {
      "cell_type": "code",
      "execution_count": 22,
      "id": "550e6b6c",
      "metadata": {
        "execution": {
          "iopub.execute_input": "2022-09-23T15:31:45.625208Z",
          "iopub.status.busy": "2022-09-23T15:31:45.624425Z",
          "iopub.status.idle": "2022-09-23T15:32:12.852021Z",
          "shell.execute_reply": "2022-09-23T15:32:12.850800Z"
        },
        "papermill": {
          "duration": 27.253011,
          "end_time": "2022-09-23T15:32:12.854736",
          "exception": false,
          "start_time": "2022-09-23T15:31:45.601725",
          "status": "completed"
        },
        "tags": [],
        "colab": {
          "base_uri": "https://localhost:8080/",
          "height": 345
        },
        "id": "550e6b6c",
        "outputId": "7f245e71-161f-4a89-9a42-11a1b83c17b3"
      },
      "outputs": [
        {
          "output_type": "display_data",
          "data": {
            "text/plain": [
              "<Figure size 1656x576 with 1 Axes>"
            ],
            "image/png": "[encoded data removed]"
          },
          "metadata": {}
        }
      ],
      "source": [
        "plt.figure(figsize=(23,8))\n",
        "sns.barplot(x='RestingBP',y='Age',data=data, palette='mako', hue='HeartDisease')\n",
        "sns.stripplot(x='RestingBP',y=\"Age\",data=data, hue='HeartDisease', dodge='True', color='grey', alpha=.8, s=2)\n",
        "plt.xticks(rotation=45)\n",
        "plt.title(\"Fare of Passenger by Embarked Town, Divided by Class\");"
      ]
    },
    {
      "cell_type": "markdown",
      "id": "0661e186",
      "metadata": {
        "papermill": {
          "duration": 0.022623,
          "end_time": "2022-09-23T15:32:12.901081",
          "exception": false,
          "start_time": "2022-09-23T15:32:12.878458",
          "status": "completed"
        },
        "tags": [],
        "id": "0661e186"
      },
      "source": [
        "# Data Preparation"
      ]
    },
    {
      "cell_type": "code",
      "execution_count": 23,
      "id": "adcb0d93",
      "metadata": {
        "execution": {
          "iopub.execute_input": "2022-09-23T15:32:12.950502Z",
          "iopub.status.busy": "2022-09-23T15:32:12.949396Z",
          "iopub.status.idle": "2022-09-23T15:32:12.966391Z",
          "shell.execute_reply": "2022-09-23T15:32:12.965553Z"
        },
        "papermill": {
          "duration": 0.043732,
          "end_time": "2022-09-23T15:32:12.968518",
          "exception": false,
          "start_time": "2022-09-23T15:32:12.924786",
          "status": "completed"
        },
        "tags": [],
        "colab": {
          "base_uri": "https://localhost:8080/",
          "height": 270
        },
        "id": "adcb0d93",
        "outputId": "b8be445b-d631-4205-adbc-99532fd166af"
      },
      "outputs": [
        {
          "output_type": "execute_result",
          "data": {
            "text/plain": [
              "   Age Sex ChestPainType  RestingBP  Cholesterol  FastingBS RestingECG  MaxHR  \\\n",
              "0   40   M           ATA        140          289          0     Normal    172   \n",
              "1   49   F           NAP        160          180          0     Normal    156   \n",
              "2   37   M           ATA        130          283          0         ST     98   \n",
              "3   48   F           ASY        138          214          0     Normal    108   \n",
              "4   54   M           NAP        150          195          0     Normal    122   \n",
              "\n",
              "  ExerciseAngina  Oldpeak ST_Slope  HeartDisease  \n",
              "0              N      0.0       Up             0  \n",
              "1              N      1.0     Flat             1  \n",
              "2              N      0.0       Up             0  \n",
              "3              Y      1.5     Flat             1  \n",
              "4              N      0.0       Up             0  "
            ],
            "text/html": [
              "\n",
              "  <div id=\"df-31a14b07-06eb-4789-9e7e-eee04b6e2ffe\">\n",
              "    <div class=\"colab-df-container\">\n",
              "      <div>\n",
              "<style scoped>\n",
              "    .dataframe tbody tr th:only-of-type {\n",
              "        vertical-align: middle;\n",
              "    }\n",
              "\n",
              "    .dataframe tbody tr th {\n",
              "        vertical-align: top;\n",
              "    }\n",
              "\n",
              "    .dataframe thead th {\n",
              "        text-align: right;\n",
              "    }\n",
              "</style>\n",
              "<table border=\"1\" class=\"dataframe\">\n",
              "  <thead>\n",
              "    <tr style=\"text-align: right;\">\n",
              "      <th></th>\n",
              "      <th>Age</th>\n",
              "      <th>Sex</th>\n",
              "      <th>ChestPainType</th>\n",
              "      <th>RestingBP</th>\n",
              "      <th>Cholesterol</th>\n",
              "      <th>FastingBS</th>\n",
              "      <th>RestingECG</th>\n",
              "      <th>MaxHR</th>\n",
              "      <th>ExerciseAngina</th>\n",
              "      <th>Oldpeak</th>\n",
              "      <th>ST_Slope</th>\n",
              "      <th>HeartDisease</th>\n",
              "    </tr>\n",
              "  </thead>\n",
              "  <tbody>\n",
              "    <tr>\n",
              "      <th>0</th>\n",
              "      <td>40</td>\n",
              "      <td>M</td>\n",
              "      <td>ATA</td>\n",
              "      <td>140</td>\n",
              "      <td>289</td>\n",
              "      <td>0</td>\n",
              "      <td>Normal</td>\n",
              "      <td>172</td>\n",
              "      <td>N</td>\n",
              "      <td>0.0</td>\n",
              "      <td>Up</td>\n",
              "      <td>0</td>\n",
              "    </tr>\n",
              "    <tr>\n",
              "      <th>1</th>\n",
              "      <td>49</td>\n",
              "      <td>F</td>\n",
              "      <td>NAP</td>\n",
              "      <td>160</td>\n",
              "      <td>180</td>\n",
              "      <td>0</td>\n",
              "      <td>Normal</td>\n",
              "      <td>156</td>\n",
              "      <td>N</td>\n",
              "      <td>1.0</td>\n",
              "      <td>Flat</td>\n",
              "      <td>1</td>\n",
              "    </tr>\n",
              "    <tr>\n",
              "      <th>2</th>\n",
              "      <td>37</td>\n",
              "      <td>M</td>\n",
              "      <td>ATA</td>\n",
              "      <td>130</td>\n",
              "      <td>283</td>\n",
              "      <td>0</td>\n",
              "      <td>ST</td>\n",
              "      <td>98</td>\n",
              "      <td>N</td>\n",
              "      <td>0.0</td>\n",
              "      <td>Up</td>\n",
              "      <td>0</td>\n",
              "    </tr>\n",
              "    <tr>\n",
              "      <th>3</th>\n",
              "      <td>48</td>\n",
              "      <td>F</td>\n",
              "      <td>ASY</td>\n",
              "      <td>138</td>\n",
              "      <td>214</td>\n",
              "      <td>0</td>\n",
              "      <td>Normal</td>\n",
              "      <td>108</td>\n",
              "      <td>Y</td>\n",
              "      <td>1.5</td>\n",
              "      <td>Flat</td>\n",
              "      <td>1</td>\n",
              "    </tr>\n",
              "    <tr>\n",
              "      <th>4</th>\n",
              "      <td>54</td>\n",
              "      <td>M</td>\n",
              "      <td>NAP</td>\n",
              "      <td>150</td>\n",
              "      <td>195</td>\n",
              "      <td>0</td>\n",
              "      <td>Normal</td>\n",
              "      <td>122</td>\n",
              "      <td>N</td>\n",
              "      <td>0.0</td>\n",
              "      <td>Up</td>\n",
              "      <td>0</td>\n",
              "    </tr>\n",
              "  </tbody>\n",
              "</table>\n",
              "</div>\n",
              "      <button class=\"colab-df-convert\" onclick=\"convertToInteractive('df-31a14b07-06eb-4789-9e7e-eee04b6e2ffe')\"\n",
              "              title=\"Convert this dataframe to an interactive table.\"\n",
              "              style=\"display:none;\">\n",
              "        \n",
              "  <svg xmlns=\"http://www.w3.org/2000/svg\" height=\"24px\"viewBox=\"0 0 24 24\"\n",
              "       width=\"24px\">\n",
              "    <path d=\"M0 0h24v24H0V0z\" fill=\"none\"/>\n",
              "    <path d=\"M18.56 5.44l.94 2.06.94-2.06 2.06-.94-2.06-.94-.94-2.06-.94 2.06-2.06.94zm-11 1L8.5 8.5l.94-2.06 2.06-.94-2.06-.94L8.5 2.5l-.94 2.06-2.06.94zm10 10l.94 2.06.94-2.06 2.06-.94-2.06-.94-.94-2.06-.94 2.06-2.06.94z\"/><path d=\"M17.41 7.96l-1.37-1.37c-.4-.4-.92-.59-1.43-.59-.52 0-1.04.2-1.43.59L10.3 9.45l-7.72 7.72c-.78.78-.78 2.05 0 2.83L4 21.41c.39.39.9.59 1.41.59.51 0 1.02-.2 1.41-.59l7.78-7.78 2.81-2.81c.8-.78.8-2.07 0-2.86zM5.41 20L4 18.59l7.72-7.72 1.47 1.35L5.41 20z\"/>\n",
              "  </svg>\n",
              "      </button>\n",
              "      \n",
              "  <style>\n",
              "    .colab-df-container {\n",
              "      display:flex;\n",
              "      flex-wrap:wrap;\n",
              "      gap: 12px;\n",
              "    }\n",
              "\n",
              "    .colab-df-convert {\n",
              "      background-color: #E8F0FE;\n",
              "      border: none;\n",
              "      border-radius: 50%;\n",
              "      cursor: pointer;\n",
              "      display: none;\n",
              "      fill: #1967D2;\n",
              "      height: 32px;\n",
              "      padding: 0 0 0 0;\n",
              "      width: 32px;\n",
              "    }\n",
              "\n",
              "    .colab-df-convert:hover {\n",
              "      background-color: #E2EBFA;\n",
              "      box-shadow: 0px 1px 2px rgba(60, 64, 67, 0.3), 0px 1px 3px 1px rgba(60, 64, 67, 0.15);\n",
              "      fill: #174EA6;\n",
              "    }\n",
              "\n",
              "    [theme=dark] .colab-df-convert {\n",
              "      background-color: #3B4455;\n",
              "      fill: #D2E3FC;\n",
              "    }\n",
              "\n",
              "    [theme=dark] .colab-df-convert:hover {\n",
              "      background-color: #434B5C;\n",
              "      box-shadow: 0px 1px 3px 1px rgba(0, 0, 0, 0.15);\n",
              "      filter: drop-shadow(0px 1px 2px rgba(0, 0, 0, 0.3));\n",
              "      fill: #FFFFFF;\n",
              "    }\n",
              "  </style>\n",
              "\n",
              "      <script>\n",
              "        const buttonEl =\n",
              "          document.querySelector('#df-31a14b07-06eb-4789-9e7e-eee04b6e2ffe button.colab-df-convert');\n",
              "        buttonEl.style.display =\n",
              "          google.colab.kernel.accessAllowed ? 'block' : 'none';\n",
              "\n",
              "        async function convertToInteractive(key) {\n",
              "          const element = document.querySelector('#df-31a14b07-06eb-4789-9e7e-eee04b6e2ffe');\n",
              "          const dataTable =\n",
              "            await google.colab.kernel.invokeFunction('convertToInteractive',\n",
              "                                                     [key], {});\n",
              "          if (!dataTable) return;\n",
              "\n",
              "          const docLinkHtml = 'Like what you see? Visit the ' +\n",
              "            '<a target=\"_blank\" href=https://colab.research.google.com/notebooks/data_table.ipynb>data table notebook</a>'\n",
              "            + ' to learn more about interactive tables.';\n",
              "          element.innerHTML = '';\n",
              "          dataTable['output_type'] = 'display_data';\n",
              "          await google.colab.output.renderOutput(dataTable, element);\n",
              "          const docLink = document.createElement('div');\n",
              "          docLink.innerHTML = docLinkHtml;\n",
              "          element.appendChild(docLink);\n",
              "        }\n",
              "      </script>\n",
              "    </div>\n",
              "  </div>\n",
              "  "
            ]
          },
          "metadata": {},
          "execution_count": 23
        }
      ],
      "source": [
        "data.head()"
      ]
    },
    {
      "cell_type": "code",
      "execution_count": 24,
      "id": "3fccbf86",
      "metadata": {
        "execution": {
          "iopub.execute_input": "2022-09-23T15:32:13.016612Z",
          "iopub.status.busy": "2022-09-23T15:32:13.016210Z",
          "iopub.status.idle": "2022-09-23T15:32:13.041233Z",
          "shell.execute_reply": "2022-09-23T15:32:13.040347Z"
        },
        "papermill": {
          "duration": 0.051466,
          "end_time": "2022-09-23T15:32:13.043263",
          "exception": false,
          "start_time": "2022-09-23T15:32:12.991797",
          "status": "completed"
        },
        "tags": [],
        "colab": {
          "base_uri": "https://localhost:8080/",
          "height": 488
        },
        "id": "3fccbf86",
        "outputId": "149ae7e0-7acf-4766-c0fa-637cddce9025"
      },
      "outputs": [
        {
          "output_type": "execute_result",
          "data": {
            "text/plain": [
              "     Age  Sex ChestPainType  RestingBP  Cholesterol  FastingBS RestingECG  \\\n",
              "0     40    1           ATA        140          289          0     Normal   \n",
              "1     49    0           NAP        160          180          0     Normal   \n",
              "2     37    1           ATA        130          283          0         ST   \n",
              "3     48    0           ASY        138          214          0     Normal   \n",
              "4     54    1           NAP        150          195          0     Normal   \n",
              "..   ...  ...           ...        ...          ...        ...        ...   \n",
              "913   45    1            TA        110          264          0     Normal   \n",
              "914   68    1           ASY        144          193          1     Normal   \n",
              "915   57    1           ASY        130          131          0     Normal   \n",
              "916   57    0           ATA        130          236          0        LVH   \n",
              "917   38    1           NAP        138          175          0     Normal   \n",
              "\n",
              "     MaxHR  ExerciseAngina  Oldpeak ST_Slope  HeartDisease  \n",
              "0      172               0      0.0       Up             0  \n",
              "1      156               0      1.0     Flat             1  \n",
              "2       98               0      0.0       Up             0  \n",
              "3      108               1      1.5     Flat             1  \n",
              "4      122               0      0.0       Up             0  \n",
              "..     ...             ...      ...      ...           ...  \n",
              "913    132               0      1.2     Flat             1  \n",
              "914    141               0      3.4     Flat             1  \n",
              "915    115               1      1.2     Flat             1  \n",
              "916    174               0      0.0     Flat             1  \n",
              "917    173               0      0.0       Up             0  \n",
              "\n",
              "[918 rows x 12 columns]"
            ],
            "text/html": [
              "\n",
              "  <div id=\"df-524a6340-973b-49f0-8f06-a59b9525cb76\">\n",
              "    <div class=\"colab-df-container\">\n",
              "      <div>\n",
              "<style scoped>\n",
              "    .dataframe tbody tr th:only-of-type {\n",
              "        vertical-align: middle;\n",
              "    }\n",
              "\n",
              "    .dataframe tbody tr th {\n",
              "        vertical-align: top;\n",
              "    }\n",
              "\n",
              "    .dataframe thead th {\n",
              "        text-align: right;\n",
              "    }\n",
              "</style>\n",
              "<table border=\"1\" class=\"dataframe\">\n",
              "  <thead>\n",
              "    <tr style=\"text-align: right;\">\n",
              "      <th></th>\n",
              "      <th>Age</th>\n",
              "      <th>Sex</th>\n",
              "      <th>ChestPainType</th>\n",
              "      <th>RestingBP</th>\n",
              "      <th>Cholesterol</th>\n",
              "      <th>FastingBS</th>\n",
              "      <th>RestingECG</th>\n",
              "      <th>MaxHR</th>\n",
              "      <th>ExerciseAngina</th>\n",
              "      <th>Oldpeak</th>\n",
              "      <th>ST_Slope</th>\n",
              "      <th>HeartDisease</th>\n",
              "    </tr>\n",
              "  </thead>\n",
              "  <tbody>\n",
              "    <tr>\n",
              "      <th>0</th>\n",
              "      <td>40</td>\n",
              "      <td>1</td>\n",
              "      <td>ATA</td>\n",
              "      <td>140</td>\n",
              "      <td>289</td>\n",
              "      <td>0</td>\n",
              "      <td>Normal</td>\n",
              "      <td>172</td>\n",
              "      <td>0</td>\n",
              "      <td>0.0</td>\n",
              "      <td>Up</td>\n",
              "      <td>0</td>\n",
              "    </tr>\n",
              "    <tr>\n",
              "      <th>1</th>\n",
              "      <td>49</td>\n",
              "      <td>0</td>\n",
              "      <td>NAP</td>\n",
              "      <td>160</td>\n",
              "      <td>180</td>\n",
              "      <td>0</td>\n",
              "      <td>Normal</td>\n",
              "      <td>156</td>\n",
              "      <td>0</td>\n",
              "      <td>1.0</td>\n",
              "      <td>Flat</td>\n",
              "      <td>1</td>\n",
              "    </tr>\n",
              "    <tr>\n",
              "      <th>2</th>\n",
              "      <td>37</td>\n",
              "      <td>1</td>\n",
              "      <td>ATA</td>\n",
              "      <td>130</td>\n",
              "      <td>283</td>\n",
              "      <td>0</td>\n",
              "      <td>ST</td>\n",
              "      <td>98</td>\n",
              "      <td>0</td>\n",
              "      <td>0.0</td>\n",
              "      <td>Up</td>\n",
              "      <td>0</td>\n",
              "    </tr>\n",
              "    <tr>\n",
              "      <th>3</th>\n",
              "      <td>48</td>\n",
              "      <td>0</td>\n",
              "      <td>ASY</td>\n",
              "      <td>138</td>\n",
              "      <td>214</td>\n",
              "      <td>0</td>\n",
              "      <td>Normal</td>\n",
              "      <td>108</td>\n",
              "      <td>1</td>\n",
              "      <td>1.5</td>\n",
              "      <td>Flat</td>\n",
              "      <td>1</td>\n",
              "    </tr>\n",
              "    <tr>\n",
              "      <th>4</th>\n",
              "      <td>54</td>\n",
              "      <td>1</td>\n",
              "      <td>NAP</td>\n",
              "      <td>150</td>\n",
              "      <td>195</td>\n",
              "      <td>0</td>\n",
              "      <td>Normal</td>\n",
              "      <td>122</td>\n",
              "      <td>0</td>\n",
              "      <td>0.0</td>\n",
              "      <td>Up</td>\n",
              "      <td>0</td>\n",
              "    </tr>\n",
              "    <tr>\n",
              "      <th>...</th>\n",
              "      <td>...</td>\n",
              "      <td>...</td>\n",
              "      <td>...</td>\n",
              "      <td>...</td>\n",
              "      <td>...</td>\n",
              "      <td>...</td>\n",
              "      <td>...</td>\n",
              "      <td>...</td>\n",
              "      <td>...</td>\n",
              "      <td>...</td>\n",
              "      <td>...</td>\n",
              "      <td>...</td>\n",
              "    </tr>\n",
              "    <tr>\n",
              "      <th>913</th>\n",
              "      <td>45</td>\n",
              "      <td>1</td>\n",
              "      <td>TA</td>\n",
              "      <td>110</td>\n",
              "      <td>264</td>\n",
              "      <td>0</td>\n",
              "      <td>Normal</td>\n",
              "      <td>132</td>\n",
              "      <td>0</td>\n",
              "      <td>1.2</td>\n",
              "      <td>Flat</td>\n",
              "      <td>1</td>\n",
              "    </tr>\n",
              "    <tr>\n",
              "      <th>914</th>\n",
              "      <td>68</td>\n",
              "      <td>1</td>\n",
              "      <td>ASY</td>\n",
              "      <td>144</td>\n",
              "      <td>193</td>\n",
              "      <td>1</td>\n",
              "      <td>Normal</td>\n",
              "      <td>141</td>\n",
              "      <td>0</td>\n",
              "      <td>3.4</td>\n",
              "      <td>Flat</td>\n",
              "      <td>1</td>\n",
              "    </tr>\n",
              "    <tr>\n",
              "      <th>915</th>\n",
              "      <td>57</td>\n",
              "      <td>1</td>\n",
              "      <td>ASY</td>\n",
              "      <td>130</td>\n",
              "      <td>131</td>\n",
              "      <td>0</td>\n",
              "      <td>Normal</td>\n",
              "      <td>115</td>\n",
              "      <td>1</td>\n",
              "      <td>1.2</td>\n",
              "      <td>Flat</td>\n",
              "      <td>1</td>\n",
              "    </tr>\n",
              "    <tr>\n",
              "      <th>916</th>\n",
              "      <td>57</td>\n",
              "      <td>0</td>\n",
              "      <td>ATA</td>\n",
              "      <td>130</td>\n",
              "      <td>236</td>\n",
              "      <td>0</td>\n",
              "      <td>LVH</td>\n",
              "      <td>174</td>\n",
              "      <td>0</td>\n",
              "      <td>0.0</td>\n",
              "      <td>Flat</td>\n",
              "      <td>1</td>\n",
              "    </tr>\n",
              "    <tr>\n",
              "      <th>917</th>\n",
              "      <td>38</td>\n",
              "      <td>1</td>\n",
              "      <td>NAP</td>\n",
              "      <td>138</td>\n",
              "      <td>175</td>\n",
              "      <td>0</td>\n",
              "      <td>Normal</td>\n",
              "      <td>173</td>\n",
              "      <td>0</td>\n",
              "      <td>0.0</td>\n",
              "      <td>Up</td>\n",
              "      <td>0</td>\n",
              "    </tr>\n",
              "  </tbody>\n",
              "</table>\n",
              "<p>918 rows × 12 columns</p>\n",
              "</div>\n",
              "      <button class=\"colab-df-convert\" onclick=\"convertToInteractive('df-524a6340-973b-49f0-8f06-a59b9525cb76')\"\n",
              "              title=\"Convert this dataframe to an interactive table.\"\n",
              "              style=\"display:none;\">\n",
              "        \n",
              "  <svg xmlns=\"http://www.w3.org/2000/svg\" height=\"24px\"viewBox=\"0 0 24 24\"\n",
              "       width=\"24px\">\n",
              "    <path d=\"M0 0h24v24H0V0z\" fill=\"none\"/>\n",
              "    <path d=\"M18.56 5.44l.94 2.06.94-2.06 2.06-.94-2.06-.94-.94-2.06-.94 2.06-2.06.94zm-11 1L8.5 8.5l.94-2.06 2.06-.94-2.06-.94L8.5 2.5l-.94 2.06-2.06.94zm10 10l.94 2.06.94-2.06 2.06-.94-2.06-.94-.94-2.06-.94 2.06-2.06.94z\"/><path d=\"M17.41 7.96l-1.37-1.37c-.4-.4-.92-.59-1.43-.59-.52 0-1.04.2-1.43.59L10.3 9.45l-7.72 7.72c-.78.78-.78 2.05 0 2.83L4 21.41c.39.39.9.59 1.41.59.51 0 1.02-.2 1.41-.59l7.78-7.78 2.81-2.81c.8-.78.8-2.07 0-2.86zM5.41 20L4 18.59l7.72-7.72 1.47 1.35L5.41 20z\"/>\n",
              "  </svg>\n",
              "      </button>\n",
              "      \n",
              "  <style>\n",
              "    .colab-df-container {\n",
              "      display:flex;\n",
              "      flex-wrap:wrap;\n",
              "      gap: 12px;\n",
              "    }\n",
              "\n",
              "    .colab-df-convert {\n",
              "      background-color: #E8F0FE;\n",
              "      border: none;\n",
              "      border-radius: 50%;\n",
              "      cursor: pointer;\n",
              "      display: none;\n",
              "      fill: #1967D2;\n",
              "      height: 32px;\n",
              "      padding: 0 0 0 0;\n",
              "      width: 32px;\n",
              "    }\n",
              "\n",
              "    .colab-df-convert:hover {\n",
              "      background-color: #E2EBFA;\n",
              "      box-shadow: 0px 1px 2px rgba(60, 64, 67, 0.3), 0px 1px 3px 1px rgba(60, 64, 67, 0.15);\n",
              "      fill: #174EA6;\n",
              "    }\n",
              "\n",
              "    [theme=dark] .colab-df-convert {\n",
              "      background-color: #3B4455;\n",
              "      fill: #D2E3FC;\n",
              "    }\n",
              "\n",
              "    [theme=dark] .colab-df-convert:hover {\n",
              "      background-color: #434B5C;\n",
              "      box-shadow: 0px 1px 3px 1px rgba(0, 0, 0, 0.15);\n",
              "      filter: drop-shadow(0px 1px 2px rgba(0, 0, 0, 0.3));\n",
              "      fill: #FFFFFF;\n",
              "    }\n",
              "  </style>\n",
              "\n",
              "      <script>\n",
              "        const buttonEl =\n",
              "          document.querySelector('#df-524a6340-973b-49f0-8f06-a59b9525cb76 button.colab-df-convert');\n",
              "        buttonEl.style.display =\n",
              "          google.colab.kernel.accessAllowed ? 'block' : 'none';\n",
              "\n",
              "        async function convertToInteractive(key) {\n",
              "          const element = document.querySelector('#df-524a6340-973b-49f0-8f06-a59b9525cb76');\n",
              "          const dataTable =\n",
              "            await google.colab.kernel.invokeFunction('convertToInteractive',\n",
              "                                                     [key], {});\n",
              "          if (!dataTable) return;\n",
              "\n",
              "          const docLinkHtml = 'Like what you see? Visit the ' +\n",
              "            '<a target=\"_blank\" href=https://colab.research.google.com/notebooks/data_table.ipynb>data table notebook</a>'\n",
              "            + ' to learn more about interactive tables.';\n",
              "          element.innerHTML = '';\n",
              "          dataTable['output_type'] = 'display_data';\n",
              "          await google.colab.output.renderOutput(dataTable, element);\n",
              "          const docLink = document.createElement('div');\n",
              "          docLink.innerHTML = docLinkHtml;\n",
              "          element.appendChild(docLink);\n",
              "        }\n",
              "      </script>\n",
              "    </div>\n",
              "  </div>\n",
              "  "
            ]
          },
          "metadata": {},
          "execution_count": 24
        }
      ],
      "source": [
        "lbe=preprocessing.LabelEncoder()\n",
        "data[\"ExerciseAngina\"]=lbe.fit_transform(data[\"ExerciseAngina\"])\n",
        "data[\"Sex\"]=lbe.fit_transform(data[\"Sex\"])\n",
        "data"
      ]
    },
    {
      "cell_type": "code",
      "execution_count": 25,
      "id": "e1c8818c",
      "metadata": {
        "execution": {
          "iopub.execute_input": "2022-09-23T15:32:13.093353Z",
          "iopub.status.busy": "2022-09-23T15:32:13.092203Z",
          "iopub.status.idle": "2022-09-23T15:32:13.108167Z",
          "shell.execute_reply": "2022-09-23T15:32:13.106978Z"
        },
        "papermill": {
          "duration": 0.043629,
          "end_time": "2022-09-23T15:32:13.110720",
          "exception": false,
          "start_time": "2022-09-23T15:32:13.067091",
          "status": "completed"
        },
        "tags": [],
        "id": "e1c8818c"
      },
      "outputs": [],
      "source": [
        "dms = pd.get_dummies(data[['ChestPainType', 'RestingECG', 'ST_Slope']]).astype('float64')\n",
        "y= data['HeartDisease']\n",
        "X_ = data.drop(['ChestPainType', 'RestingECG', 'ST_Slope','HeartDisease'], axis=1)\n",
        "X = pd.concat([X_,dms],axis=1)\n",
        "X_train, X_test, y_train, y_test = train_test_split(X, y, test_size=0.25, random_state=42)"
      ]
    },
    {
      "cell_type": "markdown",
      "id": "099ef16f",
      "metadata": {
        "papermill": {
          "duration": 0.02367,
          "end_time": "2022-09-23T15:32:13.158046",
          "exception": false,
          "start_time": "2022-09-23T15:32:13.134376",
          "status": "completed"
        },
        "tags": [],
        "id": "099ef16f"
      },
      "source": [
        "# Logistic Regression"
      ]
    },
    {
      "cell_type": "code",
      "execution_count": 26,
      "id": "637b8e39",
      "metadata": {
        "execution": {
          "iopub.execute_input": "2022-09-23T15:32:13.207684Z",
          "iopub.status.busy": "2022-09-23T15:32:13.206593Z",
          "iopub.status.idle": "2022-09-23T15:32:13.226984Z",
          "shell.execute_reply": "2022-09-23T15:32:13.225630Z"
        },
        "papermill": {
          "duration": 0.047604,
          "end_time": "2022-09-23T15:32:13.229397",
          "exception": false,
          "start_time": "2022-09-23T15:32:13.181793",
          "status": "completed"
        },
        "tags": [],
        "colab": {
          "base_uri": "https://localhost:8080/"
        },
        "id": "637b8e39",
        "outputId": "72d77717-d626-4834-ed79-1e4a5b069d1b"
      },
      "outputs": [
        {
          "output_type": "execute_result",
          "data": {
            "text/plain": [
              "0.8652173913043478"
            ]
          },
          "metadata": {},
          "execution_count": 26
        }
      ],
      "source": [
        "lr_model=LogisticRegression(solver=\"liblinear\").fit(X_train,y_train)\n",
        "y_pred= lr_model.predict(X_test)\n",
        "accuracy_score(y_test,y_pred)"
      ]
    },
    {
      "cell_type": "code",
      "execution_count": 27,
      "id": "26e58359",
      "metadata": {
        "execution": {
          "iopub.execute_input": "2022-09-23T15:32:13.280165Z",
          "iopub.status.busy": "2022-09-23T15:32:13.279170Z",
          "iopub.status.idle": "2022-09-23T15:32:13.445840Z",
          "shell.execute_reply": "2022-09-23T15:32:13.444632Z"
        },
        "papermill": {
          "duration": 0.194971,
          "end_time": "2022-09-23T15:32:13.448304",
          "exception": false,
          "start_time": "2022-09-23T15:32:13.253333",
          "status": "completed"
        },
        "tags": [],
        "colab": {
          "base_uri": "https://localhost:8080/"
        },
        "id": "26e58359",
        "outputId": "7762c0dc-9e63-4df0-d13e-8f4283be7c83"
      },
      "outputs": [
        {
          "output_type": "stream",
          "name": "stdout",
          "text": [
            "Test Error :  0.8652173913043478\n",
            "Train Error:  0.8706095481670928\n"
          ]
        }
      ],
      "source": [
        "print('Test Error : ',cross_val_score(lr_model,X_test,y_test,cv = 10).mean())\n",
        "print('Train Error: ',cross_val_score(lr_model,X_train,y_train,cv = 10).mean())"
      ]
    },
    {
      "cell_type": "code",
      "execution_count": 28,
      "id": "65cc407a",
      "metadata": {
        "execution": {
          "iopub.execute_input": "2022-09-23T15:32:13.498892Z",
          "iopub.status.busy": "2022-09-23T15:32:13.498441Z",
          "iopub.status.idle": "2022-09-23T15:32:13.509264Z",
          "shell.execute_reply": "2022-09-23T15:32:13.508020Z"
        },
        "papermill": {
          "duration": 0.039346,
          "end_time": "2022-09-23T15:32:13.511835",
          "exception": false,
          "start_time": "2022-09-23T15:32:13.472489",
          "status": "completed"
        },
        "tags": [],
        "colab": {
          "base_uri": "https://localhost:8080/"
        },
        "id": "65cc407a",
        "outputId": "89366650-2166-494c-ba1d-23fb6ee88f21"
      },
      "outputs": [
        {
          "output_type": "stream",
          "name": "stdout",
          "text": [
            "              precision    recall  f1-score   support\n",
            "\n",
            "           0       0.82      0.88      0.85        98\n",
            "           1       0.90      0.86      0.88       132\n",
            "\n",
            "    accuracy                           0.87       230\n",
            "   macro avg       0.86      0.87      0.86       230\n",
            "weighted avg       0.87      0.87      0.87       230\n",
            "\n"
          ]
        }
      ],
      "source": [
        "print(classification_report(y_test, y_pred))"
      ]
    },
    {
      "cell_type": "code",
      "execution_count": 29,
      "id": "caa69180",
      "metadata": {
        "execution": {
          "iopub.execute_input": "2022-09-23T15:32:13.562717Z",
          "iopub.status.busy": "2022-09-23T15:32:13.562283Z",
          "iopub.status.idle": "2022-09-23T15:32:13.801712Z",
          "shell.execute_reply": "2022-09-23T15:32:13.800697Z"
        },
        "papermill": {
          "duration": 0.268432,
          "end_time": "2022-09-23T15:32:13.804348",
          "exception": false,
          "start_time": "2022-09-23T15:32:13.535916",
          "status": "completed"
        },
        "tags": [],
        "colab": {
          "base_uri": "https://localhost:8080/",
          "height": 303
        },
        "id": "caa69180",
        "outputId": "91de99fa-a76d-4773-ce61-e47d0d878c01"
      },
      "outputs": [
        {
          "output_type": "display_data",
          "data": {
            "text/plain": [
              "<Figure size 432x288 with 2 Axes>"
            ],
            "image/png": "[encoded data removed]"
          },
          "metadata": {}
        }
      ],
      "source": [
        "cm1 = confusion_matrix(y_test, y_pred)\n",
        "sns.heatmap(cm1, annot=True)\n",
        "plt.xlabel('Predicted Values')\n",
        "plt.ylabel('Actual Values')\n",
        "plt.title('Accuracy Score: {0}'.format(accuracy_score(y_test,y_pred)), size = 15)\n",
        "plt.show()"
      ]
    },
    {
      "cell_type": "code",
      "execution_count": 30,
      "id": "84388ebb",
      "metadata": {
        "execution": {
          "iopub.execute_input": "2022-09-23T15:32:13.856675Z",
          "iopub.status.busy": "2022-09-23T15:32:13.856234Z",
          "iopub.status.idle": "2022-09-23T15:32:14.096270Z",
          "shell.execute_reply": "2022-09-23T15:32:14.095368Z"
        },
        "papermill": {
          "duration": 0.269251,
          "end_time": "2022-09-23T15:32:14.098717",
          "exception": false,
          "start_time": "2022-09-23T15:32:13.829466",
          "status": "completed"
        },
        "tags": [],
        "colab": {
          "base_uri": "https://localhost:8080/",
          "height": 301
        },
        "id": "84388ebb",
        "outputId": "b78236ac-ee9c-4600-900f-99ac35399249"
      },
      "outputs": [
        {
          "output_type": "display_data",
          "data": {
            "text/plain": [
              "<Figure size 432x288 with 1 Axes>"
            ],
            "image/png": "[encoded data removed]"
          },
          "metadata": {}
        }
      ],
      "source": [
        "from sklearn.metrics import roc_auc_score\n",
        "from sklearn.metrics import roc_curve\n",
        "\n",
        "roc_auc = roc_auc_score(y_test, lr_model.predict(X_test))\n",
        "fpr, tpr, thresholds = roc_curve(y_test, lr_model.predict_proba(X_test)[:,1])\n",
        "\n",
        "plt.plot(fpr, tpr, label='LR (auc = %0.3f)' % roc_auc, color='navy')\n",
        "plt.plot([0, 1], [0, 1],'r--')\n",
        "plt.title('ROC')\n",
        "plt.xlabel('False Positive Rate')\n",
        "plt.ylabel('True Positive Rate')\n",
        "plt.legend(loc=\"lower right\")\n",
        "plt.show()"
      ]
    },
    {
      "cell_type": "markdown",
      "id": "061cd9cc",
      "metadata": {
        "papermill": {
          "duration": 0.024667,
          "end_time": "2022-09-23T15:32:14.148957",
          "exception": false,
          "start_time": "2022-09-23T15:32:14.124290",
          "status": "completed"
        },
        "tags": [],
        "id": "061cd9cc"
      },
      "source": [
        "# Naive Bayes"
      ]
    },
    {
      "cell_type": "code",
      "execution_count": 31,
      "id": "b42007db",
      "metadata": {
        "execution": {
          "iopub.execute_input": "2022-09-23T15:32:14.201020Z",
          "iopub.status.busy": "2022-09-23T15:32:14.200151Z",
          "iopub.status.idle": "2022-09-23T15:32:14.211635Z",
          "shell.execute_reply": "2022-09-23T15:32:14.210767Z"
        },
        "papermill": {
          "duration": 0.039641,
          "end_time": "2022-09-23T15:32:14.213866",
          "exception": false,
          "start_time": "2022-09-23T15:32:14.174225",
          "status": "completed"
        },
        "tags": [],
        "colab": {
          "base_uri": "https://localhost:8080/"
        },
        "id": "b42007db",
        "outputId": "98ce7b63-1de7-454e-b552-3da7a1480a1c"
      },
      "outputs": [
        {
          "output_type": "execute_result",
          "data": {
            "text/plain": [
              "0.8608695652173913"
            ]
          },
          "metadata": {},
          "execution_count": 31
        }
      ],
      "source": [
        "nb_model= GaussianNB().fit(X_train,y_train)\n",
        "nb_predictions=nb_model.predict(X_test)\n",
        "train_score=accuracy_score(y_test,nb_predictions)\n",
        "train_score"
      ]
    },
    {
      "cell_type": "code",
      "execution_count": 32,
      "id": "c6a0d078",
      "metadata": {
        "execution": {
          "iopub.execute_input": "2022-09-23T15:32:14.266381Z",
          "iopub.status.busy": "2022-09-23T15:32:14.265765Z",
          "iopub.status.idle": "2022-09-23T15:32:14.374161Z",
          "shell.execute_reply": "2022-09-23T15:32:14.372477Z"
        },
        "papermill": {
          "duration": 0.137206,
          "end_time": "2022-09-23T15:32:14.376590",
          "exception": false,
          "start_time": "2022-09-23T15:32:14.239384",
          "status": "completed"
        },
        "tags": [],
        "colab": {
          "base_uri": "https://localhost:8080/"
        },
        "id": "c6a0d078",
        "outputId": "c4666edd-e571-4971-da0d-0126503f13db"
      },
      "outputs": [
        {
          "output_type": "stream",
          "name": "stdout",
          "text": [
            "Test Error :  0.8478260869565217\n",
            "Train Error:  0.857459505541347\n"
          ]
        }
      ],
      "source": [
        "print('Test Error : ',cross_val_score(nb_model,X_test,y_test,cv = 10).mean())\n",
        "print('Train Error: ',cross_val_score(nb_model,X_train,y_train,cv = 10).mean())"
      ]
    },
    {
      "cell_type": "code",
      "execution_count": 33,
      "id": "26c21cb0",
      "metadata": {
        "execution": {
          "iopub.execute_input": "2022-09-23T15:32:14.427611Z",
          "iopub.status.busy": "2022-09-23T15:32:14.427177Z",
          "iopub.status.idle": "2022-09-23T15:32:14.438228Z",
          "shell.execute_reply": "2022-09-23T15:32:14.436676Z"
        },
        "papermill": {
          "duration": 0.039505,
          "end_time": "2022-09-23T15:32:14.440715",
          "exception": false,
          "start_time": "2022-09-23T15:32:14.401210",
          "status": "completed"
        },
        "tags": [],
        "colab": {
          "base_uri": "https://localhost:8080/"
        },
        "id": "26c21cb0",
        "outputId": "86056e10-3458-41e3-d6fc-75a7f210c9d4"
      },
      "outputs": [
        {
          "output_type": "stream",
          "name": "stdout",
          "text": [
            "              precision    recall  f1-score   support\n",
            "\n",
            "           0       0.82      0.88      0.85        98\n",
            "           1       0.90      0.86      0.88       132\n",
            "\n",
            "    accuracy                           0.87       230\n",
            "   macro avg       0.86      0.87      0.86       230\n",
            "weighted avg       0.87      0.87      0.87       230\n",
            "\n"
          ]
        }
      ],
      "source": [
        "print(classification_report(y_test, y_pred))"
      ]
    },
    {
      "cell_type": "code",
      "execution_count": 34,
      "id": "0baf0ae7",
      "metadata": {
        "execution": {
          "iopub.execute_input": "2022-09-23T15:32:14.493827Z",
          "iopub.status.busy": "2022-09-23T15:32:14.493171Z",
          "iopub.status.idle": "2022-09-23T15:32:14.727931Z",
          "shell.execute_reply": "2022-09-23T15:32:14.726816Z"
        },
        "papermill": {
          "duration": 0.26452,
          "end_time": "2022-09-23T15:32:14.730580",
          "exception": false,
          "start_time": "2022-09-23T15:32:14.466060",
          "status": "completed"
        },
        "tags": [],
        "colab": {
          "base_uri": "https://localhost:8080/",
          "height": 301
        },
        "id": "0baf0ae7",
        "outputId": "76467fdc-180d-4251-9ab4-7c9d060d631c"
      },
      "outputs": [
        {
          "output_type": "display_data",
          "data": {
            "text/plain": [
              "<Figure size 432x288 with 1 Axes>"
            ],
            "image/png": "[encoded data removed]"
          },
          "metadata": {}
        }
      ],
      "source": [
        "roc_auc = roc_auc_score(y_test, nb_model.predict(X_test))\n",
        "fpr, tpr, thresholds = roc_curve(y_test, nb_model.predict_proba(X_test)[:,1])\n",
        "\n",
        "plt.plot(fpr, tpr, label='LR (auc = %0.3f)' % roc_auc, color='navy')\n",
        "plt.plot([0, 1], [0, 1],'r--')\n",
        "plt.title('ROC')\n",
        "plt.xlabel('False Positive Rate')\n",
        "plt.ylabel('True Positive Rate')\n",
        "plt.legend(loc=\"lower right\")\n",
        "plt.show()"
      ]
    },
    {
      "cell_type": "markdown",
      "id": "a28d524f",
      "metadata": {
        "papermill": {
          "duration": 0.024754,
          "end_time": "2022-09-23T15:32:14.780832",
          "exception": false,
          "start_time": "2022-09-23T15:32:14.756078",
          "status": "completed"
        },
        "tags": [],
        "id": "a28d524f"
      },
      "source": [
        "# Support Vector Machine(SVM)"
      ]
    },
    {
      "cell_type": "code",
      "execution_count": 35,
      "id": "ed8bc1a3",
      "metadata": {
        "execution": {
          "iopub.execute_input": "2022-09-23T15:32:14.833051Z",
          "iopub.status.busy": "2022-09-23T15:32:14.832643Z",
          "iopub.status.idle": "2022-09-23T15:32:17.804099Z",
          "shell.execute_reply": "2022-09-23T15:32:17.802906Z"
        },
        "papermill": {
          "duration": 3.000788,
          "end_time": "2022-09-23T15:32:17.806777",
          "exception": false,
          "start_time": "2022-09-23T15:32:14.805989",
          "status": "completed"
        },
        "tags": [],
        "colab": {
          "base_uri": "https://localhost:8080/"
        },
        "id": "ed8bc1a3",
        "outputId": "e239898b-6cad-44b3-b624-a8edc14a039f"
      },
      "outputs": [
        {
          "output_type": "execute_result",
          "data": {
            "text/plain": [
              "0.8608695652173913"
            ]
          },
          "metadata": {},
          "execution_count": 35
        }
      ],
      "source": [
        "#Model - Predict\n",
        "svm_model = SVC(kernel = 'linear').fit(X_train,y_train)\n",
        "y_pred = svm_model.predict(X_test)\n",
        "accuracy_score(y_test,y_pred)"
      ]
    },
    {
      "cell_type": "code",
      "execution_count": 36,
      "id": "0b782c2c",
      "metadata": {
        "execution": {
          "iopub.execute_input": "2022-09-23T15:32:17.861088Z",
          "iopub.status.busy": "2022-09-23T15:32:17.860183Z",
          "iopub.status.idle": "2022-09-23T15:32:17.871873Z",
          "shell.execute_reply": "2022-09-23T15:32:17.870623Z"
        },
        "papermill": {
          "duration": 0.042059,
          "end_time": "2022-09-23T15:32:17.874341",
          "exception": false,
          "start_time": "2022-09-23T15:32:17.832282",
          "status": "completed"
        },
        "tags": [],
        "colab": {
          "base_uri": "https://localhost:8080/"
        },
        "id": "0b782c2c",
        "outputId": "6c49a1fa-4507-43c7-fc2b-a8fba92a7806"
      },
      "outputs": [
        {
          "output_type": "execute_result",
          "data": {
            "text/plain": [
              "0.8608695652173913"
            ]
          },
          "metadata": {},
          "execution_count": 36
        }
      ],
      "source": [
        "y_pred = svm_model.predict(X_test)\n",
        "accuracy_score(y_test,y_pred)"
      ]
    },
    {
      "cell_type": "code",
      "execution_count": 37,
      "id": "8faa8c7f",
      "metadata": {
        "execution": {
          "iopub.execute_input": "2022-09-23T15:32:17.929646Z",
          "iopub.status.busy": "2022-09-23T15:32:17.928994Z",
          "iopub.status.idle": "2022-09-23T15:33:02.657517Z",
          "shell.execute_reply": "2022-09-23T15:33:02.656394Z"
        },
        "papermill": {
          "duration": 44.782727,
          "end_time": "2022-09-23T15:33:02.684806",
          "exception": false,
          "start_time": "2022-09-23T15:32:17.902079",
          "status": "completed"
        },
        "tags": [],
        "colab": {
          "base_uri": "https://localhost:8080/"
        },
        "id": "8faa8c7f",
        "outputId": "1b4deae8-9465-4cc7-dc3f-e9ac313e0d86"
      },
      "outputs": [
        {
          "output_type": "stream",
          "name": "stdout",
          "text": [
            "Test Error :  0.8565217391304347\n",
            "Train Error:  0.864769820971867\n"
          ]
        }
      ],
      "source": [
        "print('Test Error : ',cross_val_score(svm_model,X_test,y_test,cv = 10).mean())\n",
        "print('Train Error: ',cross_val_score(svm_model,X_train,y_train,cv = 10).mean())"
      ]
    },
    {
      "cell_type": "code",
      "execution_count": 38,
      "id": "97d23532",
      "metadata": {
        "execution": {
          "iopub.execute_input": "2022-09-23T15:33:02.738118Z",
          "iopub.status.busy": "2022-09-23T15:33:02.737710Z",
          "iopub.status.idle": "2022-09-23T15:33:02.747554Z",
          "shell.execute_reply": "2022-09-23T15:33:02.746230Z"
        },
        "papermill": {
          "duration": 0.039492,
          "end_time": "2022-09-23T15:33:02.750070",
          "exception": false,
          "start_time": "2022-09-23T15:33:02.710578",
          "status": "completed"
        },
        "tags": [],
        "colab": {
          "base_uri": "https://localhost:8080/"
        },
        "id": "97d23532",
        "outputId": "aeadd2b7-eea7-4d6b-ef28-3ed3764f29ae"
      },
      "outputs": [
        {
          "output_type": "stream",
          "name": "stdout",
          "text": [
            "              precision    recall  f1-score   support\n",
            "\n",
            "           0       0.81      0.88      0.84        98\n",
            "           1       0.90      0.85      0.88       132\n",
            "\n",
            "    accuracy                           0.86       230\n",
            "   macro avg       0.86      0.86      0.86       230\n",
            "weighted avg       0.86      0.86      0.86       230\n",
            "\n"
          ]
        }
      ],
      "source": [
        "print(classification_report(y_test, y_pred))"
      ]
    },
    {
      "cell_type": "code",
      "execution_count": 39,
      "id": "cae72912",
      "metadata": {
        "execution": {
          "iopub.execute_input": "2022-09-23T15:33:02.804284Z",
          "iopub.status.busy": "2022-09-23T15:33:02.803884Z",
          "iopub.status.idle": "2022-09-23T15:33:02.809089Z",
          "shell.execute_reply": "2022-09-23T15:33:02.807839Z"
        },
        "papermill": {
          "duration": 0.035429,
          "end_time": "2022-09-23T15:33:02.811436",
          "exception": false,
          "start_time": "2022-09-23T15:33:02.776007",
          "status": "completed"
        },
        "tags": [],
        "id": "cae72912"
      },
      "outputs": [],
      "source": [
        "# Model Tuned\n",
        "svc = SVC()\n",
        "svm_params = {\"C\": np.arange(1,10), \"kernel\": [\"linear\",\"rbf\"]}"
      ]
    },
    {
      "cell_type": "code",
      "execution_count": 40,
      "id": "ab8633e9",
      "metadata": {
        "execution": {
          "iopub.execute_input": "2022-09-23T15:33:02.866206Z",
          "iopub.status.busy": "2022-09-23T15:33:02.865800Z",
          "iopub.status.idle": "2022-09-23T15:40:40.130924Z",
          "shell.execute_reply": "2022-09-23T15:40:40.129671Z"
        },
        "papermill": {
          "duration": 457.295369,
          "end_time": "2022-09-23T15:40:40.133613",
          "exception": false,
          "start_time": "2022-09-23T15:33:02.838244",
          "status": "completed"
        },
        "tags": [],
        "id": "ab8633e9"
      },
      "outputs": [],
      "source": [
        "svm_cv_model = GridSearchCV(svc,svm_params,cv=5).fit(X_train,y_train)"
      ]
    },
    {
      "cell_type": "code",
      "execution_count": 41,
      "id": "00cdfb1d",
      "metadata": {
        "execution": {
          "iopub.execute_input": "2022-09-23T15:40:40.187397Z",
          "iopub.status.busy": "2022-09-23T15:40:40.186597Z",
          "iopub.status.idle": "2022-09-23T15:40:40.193116Z",
          "shell.execute_reply": "2022-09-23T15:40:40.191821Z"
        },
        "papermill": {
          "duration": 0.035075,
          "end_time": "2022-09-23T15:40:40.195165",
          "exception": false,
          "start_time": "2022-09-23T15:40:40.160090",
          "status": "completed"
        },
        "tags": [],
        "colab": {
          "base_uri": "https://localhost:8080/"
        },
        "id": "00cdfb1d",
        "outputId": "ae0d336d-d894-4da3-b150-d3a733f74fbf"
      },
      "outputs": [
        {
          "output_type": "execute_result",
          "data": {
            "text/plain": [
              "{'C': 4, 'kernel': 'linear'}"
            ]
          },
          "metadata": {},
          "execution_count": 41
        }
      ],
      "source": [
        "svm_cv_model.best_params_"
      ]
    },
    {
      "cell_type": "code",
      "execution_count": 42,
      "id": "4fb9e437",
      "metadata": {
        "execution": {
          "iopub.execute_input": "2022-09-23T15:40:40.248706Z",
          "iopub.status.busy": "2022-09-23T15:40:40.248059Z",
          "iopub.status.idle": "2022-09-23T15:40:40.253841Z",
          "shell.execute_reply": "2022-09-23T15:40:40.252807Z"
        },
        "papermill": {
          "duration": 0.035022,
          "end_time": "2022-09-23T15:40:40.256009",
          "exception": false,
          "start_time": "2022-09-23T15:40:40.220987",
          "status": "completed"
        },
        "tags": [],
        "colab": {
          "base_uri": "https://localhost:8080/"
        },
        "id": "4fb9e437",
        "outputId": "4403a2cf-91f4-4e7d-e0de-8adbb89e04e9"
      },
      "outputs": [
        {
          "output_type": "execute_result",
          "data": {
            "text/plain": [
              "0.8633132338940019"
            ]
          },
          "metadata": {},
          "execution_count": 42
        }
      ],
      "source": [
        "svm_cv_model.best_score_"
      ]
    },
    {
      "cell_type": "code",
      "execution_count": 43,
      "id": "e671d257",
      "metadata": {
        "execution": {
          "iopub.execute_input": "2022-09-23T15:40:40.309918Z",
          "iopub.status.busy": "2022-09-23T15:40:40.309326Z",
          "iopub.status.idle": "2022-09-23T15:40:50.790298Z",
          "shell.execute_reply": "2022-09-23T15:40:50.789166Z"
        },
        "papermill": {
          "duration": 10.510931,
          "end_time": "2022-09-23T15:40:50.792972",
          "exception": false,
          "start_time": "2022-09-23T15:40:40.282041",
          "status": "completed"
        },
        "tags": [],
        "colab": {
          "base_uri": "https://localhost:8080/"
        },
        "id": "e671d257",
        "outputId": "9c71968a-da3b-4d4c-a86e-12c4d8c75717"
      },
      "outputs": [
        {
          "output_type": "execute_result",
          "data": {
            "text/plain": [
              "0.8608695652173913"
            ]
          },
          "metadata": {},
          "execution_count": 43
        }
      ],
      "source": [
        "svm_tuned = SVC(C= 4,kernel = 'linear').fit(X_train,y_train)\n",
        "y_pred = svm_tuned.predict(X_test)\n",
        "accuracy_score(y_test,y_pred)"
      ]
    },
    {
      "cell_type": "markdown",
      "id": "0acca768",
      "metadata": {
        "papermill": {
          "duration": 0.026374,
          "end_time": "2022-09-23T15:40:50.846029",
          "exception": false,
          "start_time": "2022-09-23T15:40:50.819655",
          "status": "completed"
        },
        "tags": [],
        "id": "0acca768"
      },
      "source": [
        "# KNN"
      ]
    },
    {
      "cell_type": "code",
      "execution_count": 44,
      "id": "b89b14be",
      "metadata": {
        "execution": {
          "iopub.execute_input": "2022-09-23T15:40:50.899836Z",
          "iopub.status.busy": "2022-09-23T15:40:50.899414Z",
          "iopub.status.idle": "2022-09-23T15:40:50.939428Z",
          "shell.execute_reply": "2022-09-23T15:40:50.938276Z"
        },
        "papermill": {
          "duration": 0.070109,
          "end_time": "2022-09-23T15:40:50.942514",
          "exception": false,
          "start_time": "2022-09-23T15:40:50.872405",
          "status": "completed"
        },
        "tags": [],
        "colab": {
          "base_uri": "https://localhost:8080/"
        },
        "id": "b89b14be",
        "outputId": "6f247dd2-fa6c-4122-fce4-f45f30653015"
      },
      "outputs": [
        {
          "output_type": "execute_result",
          "data": {
            "text/plain": [
              "0.7217391304347827"
            ]
          },
          "metadata": {},
          "execution_count": 44
        }
      ],
      "source": [
        "knn_model = KNeighborsClassifier().fit(X_train,y_train)\n",
        "y_pred = knn_model.predict(X_test)\n",
        "accuracy_score(y_test,y_pred)"
      ]
    },
    {
      "cell_type": "code",
      "execution_count": 45,
      "id": "1b9dfaf1",
      "metadata": {
        "execution": {
          "iopub.execute_input": "2022-09-23T15:40:51.032995Z",
          "iopub.status.busy": "2022-09-23T15:40:51.032435Z",
          "iopub.status.idle": "2022-09-23T15:40:51.146350Z",
          "shell.execute_reply": "2022-09-23T15:40:51.145178Z"
        },
        "papermill": {
          "duration": 0.162617,
          "end_time": "2022-09-23T15:40:51.149532",
          "exception": false,
          "start_time": "2022-09-23T15:40:50.986915",
          "status": "completed"
        },
        "tags": [],
        "colab": {
          "base_uri": "https://localhost:8080/"
        },
        "id": "1b9dfaf1",
        "outputId": "ce5f43e6-5fb2-4fe6-8a67-ccd323dc1988"
      },
      "outputs": [
        {
          "output_type": "stream",
          "name": "stdout",
          "text": [
            "Test Error :  0.734782608695652\n",
            "Train Error:  0.6874114037871576\n"
          ]
        }
      ],
      "source": [
        "print('Test Error : ',cross_val_score(knn_model,X_test,y_test,cv = 5).mean())\n",
        "print('Train Error: ',cross_val_score(knn_model,X_train,y_train,cv = 5).mean())"
      ]
    },
    {
      "cell_type": "code",
      "execution_count": 46,
      "id": "c5b9ad36",
      "metadata": {
        "execution": {
          "iopub.execute_input": "2022-09-23T15:40:51.238662Z",
          "iopub.status.busy": "2022-09-23T15:40:51.238090Z",
          "iopub.status.idle": "2022-09-23T15:40:57.285398Z",
          "shell.execute_reply": "2022-09-23T15:40:57.284153Z"
        },
        "papermill": {
          "duration": 6.096581,
          "end_time": "2022-09-23T15:40:57.289695",
          "exception": false,
          "start_time": "2022-09-23T15:40:51.193114",
          "status": "completed"
        },
        "tags": [],
        "id": "c5b9ad36"
      },
      "outputs": [],
      "source": [
        "knn = KNeighborsClassifier()\n",
        "knn_params = {'n_neighbors': np.arange(1,50)}\n",
        "knn_cv_model = GridSearchCV(knn,knn_params,cv=10).fit(X_train,y_train)"
      ]
    },
    {
      "cell_type": "code",
      "execution_count": 47,
      "id": "d40c46e7",
      "metadata": {
        "execution": {
          "iopub.execute_input": "2022-09-23T15:40:57.382767Z",
          "iopub.status.busy": "2022-09-23T15:40:57.382151Z",
          "iopub.status.idle": "2022-09-23T15:40:57.390555Z",
          "shell.execute_reply": "2022-09-23T15:40:57.389446Z"
        },
        "papermill": {
          "duration": 0.057821,
          "end_time": "2022-09-23T15:40:57.393136",
          "exception": false,
          "start_time": "2022-09-23T15:40:57.335315",
          "status": "completed"
        },
        "tags": [],
        "colab": {
          "base_uri": "https://localhost:8080/"
        },
        "id": "d40c46e7",
        "outputId": "1df64bed-cdf1-450f-b65c-1e4168242bca"
      },
      "outputs": [
        {
          "output_type": "execute_result",
          "data": {
            "text/plain": [
              "{'n_neighbors': 38}"
            ]
          },
          "metadata": {},
          "execution_count": 47
        }
      ],
      "source": [
        "knn_cv_model.best_params_"
      ]
    },
    {
      "cell_type": "code",
      "execution_count": 48,
      "id": "450bb057",
      "metadata": {
        "execution": {
          "iopub.execute_input": "2022-09-23T15:40:57.452589Z",
          "iopub.status.busy": "2022-09-23T15:40:57.452147Z",
          "iopub.status.idle": "2022-09-23T15:40:58.453000Z",
          "shell.execute_reply": "2022-09-23T15:40:58.451559Z"
        },
        "papermill": {
          "duration": 1.032121,
          "end_time": "2022-09-23T15:40:58.456391",
          "exception": false,
          "start_time": "2022-09-23T15:40:57.424270",
          "status": "completed"
        },
        "tags": [],
        "id": "450bb057"
      },
      "outputs": [],
      "source": [
        "error_rate = []\n",
        "\n",
        "for i in range(1,40):\n",
        "  knn = KNeighborsClassifier(n_neighbors=i)\n",
        "  knn.fit(X_train,y_train)\n",
        "  pred_i = knn.predict(X_test)\n",
        "  error_rate.append(np.mean(pred_i != y_test))"
      ]
    },
    {
      "cell_type": "code",
      "execution_count": 49,
      "id": "bc3f59fe",
      "metadata": {
        "execution": {
          "iopub.execute_input": "2022-09-23T15:40:58.565182Z",
          "iopub.status.busy": "2022-09-23T15:40:58.564778Z",
          "iopub.status.idle": "2022-09-23T15:40:58.824449Z",
          "shell.execute_reply": "2022-09-23T15:40:58.823294Z"
        },
        "papermill": {
          "duration": 0.292286,
          "end_time": "2022-09-23T15:40:58.826920",
          "exception": false,
          "start_time": "2022-09-23T15:40:58.534634",
          "status": "completed"
        },
        "tags": [],
        "colab": {
          "base_uri": "https://localhost:8080/",
          "height": 535
        },
        "id": "bc3f59fe",
        "outputId": "eb5be8e9-0c8c-4355-dd5a-5ab276dc3f95"
      },
      "outputs": [
        {
          "output_type": "execute_result",
          "data": {
            "text/plain": [
              "Text(0, 0.5, 'Error Rate')"
            ]
          },
          "metadata": {},
          "execution_count": 49
        },
        {
          "output_type": "display_data",
          "data": {
            "text/plain": [
              "<Figure size 864x576 with 1 Axes>"
            ],
            "image/png": "[encoded data removed]"
          },
          "metadata": {}
        }
      ],
      "source": [
        "plt.figure(figsize=(12,8))\n",
        "plt.plot(range(1,40),error_rate,color='blue',marker='o',linestyle='dashed',markerfacecolor='red',markersize=10)\n",
        "plt.title(' Error rate vs k value')\n",
        "plt.xlabel('K')\n",
        "plt.ylabel('Error Rate')"
      ]
    },
    {
      "cell_type": "code",
      "execution_count": 50,
      "id": "5becdea6",
      "metadata": {
        "execution": {
          "iopub.execute_input": "2022-09-23T15:40:58.884195Z",
          "iopub.status.busy": "2022-09-23T15:40:58.883046Z",
          "iopub.status.idle": "2022-09-23T15:40:58.889869Z",
          "shell.execute_reply": "2022-09-23T15:40:58.888854Z"
        },
        "papermill": {
          "duration": 0.037582,
          "end_time": "2022-09-23T15:40:58.892155",
          "exception": false,
          "start_time": "2022-09-23T15:40:58.854573",
          "status": "completed"
        },
        "tags": [],
        "colab": {
          "base_uri": "https://localhost:8080/"
        },
        "id": "5becdea6",
        "outputId": "e906c164-dccf-4fcc-a7f3-c817c184d70a"
      },
      "outputs": [
        {
          "output_type": "execute_result",
          "data": {
            "text/plain": [
              "0.7252344416027281"
            ]
          },
          "metadata": {},
          "execution_count": 50
        }
      ],
      "source": [
        "knn_cv_model.best_score_"
      ]
    },
    {
      "cell_type": "code",
      "execution_count": 51,
      "id": "25c9f21b",
      "metadata": {
        "execution": {
          "iopub.execute_input": "2022-09-23T15:40:58.948684Z",
          "iopub.status.busy": "2022-09-23T15:40:58.948288Z",
          "iopub.status.idle": "2022-09-23T15:40:58.955876Z",
          "shell.execute_reply": "2022-09-23T15:40:58.954818Z"
        },
        "papermill": {
          "duration": 0.038646,
          "end_time": "2022-09-23T15:40:58.958330",
          "exception": false,
          "start_time": "2022-09-23T15:40:58.919684",
          "status": "completed"
        },
        "tags": [],
        "id": "25c9f21b"
      },
      "outputs": [],
      "source": [
        "# Final Model\n",
        "knn_tuned = KNeighborsClassifier(n_neighbors=38).fit(X_train,y_train)"
      ]
    },
    {
      "cell_type": "code",
      "execution_count": 52,
      "id": "d3356e5e",
      "metadata": {
        "execution": {
          "iopub.execute_input": "2022-09-23T15:40:59.014845Z",
          "iopub.status.busy": "2022-09-23T15:40:59.014416Z",
          "iopub.status.idle": "2022-09-23T15:40:59.037859Z",
          "shell.execute_reply": "2022-09-23T15:40:59.036529Z"
        },
        "papermill": {
          "duration": 0.055568,
          "end_time": "2022-09-23T15:40:59.041317",
          "exception": false,
          "start_time": "2022-09-23T15:40:58.985749",
          "status": "completed"
        },
        "tags": [],
        "id": "d3356e5e"
      },
      "outputs": [],
      "source": [
        "y_pred = knn_tuned.predict(X_test)"
      ]
    },
    {
      "cell_type": "code",
      "execution_count": 53,
      "id": "caf7ad35",
      "metadata": {
        "execution": {
          "iopub.execute_input": "2022-09-23T15:40:59.134697Z",
          "iopub.status.busy": "2022-09-23T15:40:59.134114Z",
          "iopub.status.idle": "2022-09-23T15:40:59.143688Z",
          "shell.execute_reply": "2022-09-23T15:40:59.142605Z"
        },
        "papermill": {
          "duration": 0.058959,
          "end_time": "2022-09-23T15:40:59.146373",
          "exception": false,
          "start_time": "2022-09-23T15:40:59.087414",
          "status": "completed"
        },
        "tags": [],
        "colab": {
          "base_uri": "https://localhost:8080/"
        },
        "id": "caf7ad35",
        "outputId": "a8953cf0-d673-4867-b5fa-6951b34a84a3"
      },
      "outputs": [
        {
          "output_type": "execute_result",
          "data": {
            "text/plain": [
              "0.6956521739130435"
            ]
          },
          "metadata": {},
          "execution_count": 53
        }
      ],
      "source": [
        "accuracy_score(y_test,y_pred)"
      ]
    },
    {
      "cell_type": "markdown",
      "id": "4183d24e",
      "metadata": {
        "papermill": {
          "duration": 0.027514,
          "end_time": "2022-09-23T15:40:59.202188",
          "exception": false,
          "start_time": "2022-09-23T15:40:59.174674",
          "status": "completed"
        },
        "tags": [],
        "id": "4183d24e"
      },
      "source": [
        "# RESULT"
      ]
    },
    {
      "cell_type": "code",
      "execution_count": 54,
      "id": "3d5ca347",
      "metadata": {
        "execution": {
          "iopub.execute_input": "2022-09-23T15:40:59.259628Z",
          "iopub.status.busy": "2022-09-23T15:40:59.259206Z",
          "iopub.status.idle": "2022-09-23T15:40:59.309727Z",
          "shell.execute_reply": "2022-09-23T15:40:59.308444Z"
        },
        "papermill": {
          "duration": 0.082903,
          "end_time": "2022-09-23T15:40:59.313093",
          "exception": false,
          "start_time": "2022-09-23T15:40:59.230190",
          "status": "completed"
        },
        "tags": [],
        "id": "3d5ca347"
      },
      "outputs": [],
      "source": [
        "modeller = [knn_tuned,svm_tuned,nb_model,lr_model]\n",
        "\n",
        "sonuc = []\n",
        "sonuclar = pd.DataFrame(columns= [\"Modeller\",\"Accuracy\"])\n",
        "\n",
        "for model in modeller:\n",
        "    isimler = model.__class__.__name__\n",
        "    y_pred = model.predict(X_test)\n",
        "    dogruluk = accuracy_score(y_test, y_pred)\n",
        "    sonuc = pd.DataFrame([[isimler, dogruluk*100]], columns= [\"Modeller\",\"Accuracy\"])\n",
        "    sonuclar = sonuclar.append(sonuc)"
      ]
    },
    {
      "cell_type": "code",
      "execution_count": 55,
      "id": "a60970fd",
      "metadata": {
        "execution": {
          "iopub.execute_input": "2022-09-23T15:40:59.402692Z",
          "iopub.status.busy": "2022-09-23T15:40:59.402270Z",
          "iopub.status.idle": "2022-09-23T15:40:59.656475Z",
          "shell.execute_reply": "2022-09-23T15:40:59.655231Z"
        },
        "papermill": {
          "duration": 0.297972,
          "end_time": "2022-09-23T15:40:59.658862",
          "exception": false,
          "start_time": "2022-09-23T15:40:59.360890",
          "status": "completed"
        },
        "tags": [],
        "colab": {
          "base_uri": "https://localhost:8080/",
          "height": 518
        },
        "id": "a60970fd",
        "outputId": "3ad6eefd-78b0-4e1f-ea3b-4407d99a71fb"
      },
      "outputs": [
        {
          "output_type": "display_data",
          "data": {
            "text/plain": [
              "<Figure size 864x576 with 1 Axes>"
            ],
            "image/png": "[encoded data removed]"
          },
          "metadata": {}
        }
      ],
      "source": [
        "plt.figure(figsize=(12,8))\n",
        "sns.barplot(x= 'Accuracy', y = 'Modeller', data=sonuclar, color=\"r\")\n",
        "plt.xlabel('Accuracy %')\n",
        "plt.title('Model accuracy score comparison');"
      ]
    },
    {
      "cell_type": "code",
      "execution_count": 55,
      "id": "3447a751",
      "metadata": {
        "id": "3447a751"
      },
      "outputs": [],
      "source": []
    }
  ],
  "metadata": {
    "kernelspec": {
      "display_name": "Python 3 (ipykernel)",
      "language": "python",
      "name": "python3"
    },
    "language_info": {
      "codemirror_mode": {
        "name": "ipython",
        "version": 3
      },
      "file_extension": ".py",
      "mimetype": "text/x-python",
      "name": "python",
      "nbconvert_exporter": "python",
      "pygments_lexer": "ipython3",
      "version": "3.9.7"
    },
    "papermill": {
      "default_parameters": {},
      "duration": 576.175911,
      "end_time": "2022-09-23T15:41:00.510346",
      "environment_variables": {},
      "exception": null,
      "input_path": "__notebook__.ipynb",
      "output_path": "__notebook__.ipynb",
      "parameters": {},
      "start_time": "2022-09-23T15:31:24.334435",
      "version": "2.3.4"
    },
    "colab": {
      "provenance": []
    }
  },
  "nbformat": 4,
  "nbformat_minor": 5
}